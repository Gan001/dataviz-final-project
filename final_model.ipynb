{
 "cells": [
  {
   "cell_type": "code",
   "execution_count": 18,
   "metadata": {},
   "outputs": [],
   "source": [
    "import matplotlib.pyplot as plt\n",
    "import numpy as np\n",
    "import pandas as pd"
   ]
  },
  {
   "cell_type": "code",
   "execution_count": 19,
   "metadata": {},
   "outputs": [],
   "source": [
    "df = pd.read_csv('daily_final_data.csv')"
   ]
  },
  {
   "cell_type": "code",
   "execution_count": 20,
   "metadata": {},
   "outputs": [
    {
     "data": {
      "text/html": [
       "<div>\n",
       "<style scoped>\n",
       "    .dataframe tbody tr th:only-of-type {\n",
       "        vertical-align: middle;\n",
       "    }\n",
       "\n",
       "    .dataframe tbody tr th {\n",
       "        vertical-align: top;\n",
       "    }\n",
       "\n",
       "    .dataframe thead th {\n",
       "        text-align: right;\n",
       "    }\n",
       "</style>\n",
       "<table border=\"1\" class=\"dataframe\">\n",
       "  <thead>\n",
       "    <tr style=\"text-align: right;\">\n",
       "      <th></th>\n",
       "      <th>air_area_name</th>\n",
       "      <th>genre_name</th>\n",
       "      <th>visitors</th>\n",
       "      <th>current_week</th>\n",
       "      <th>day_of_week</th>\n",
       "      <th>holidays</th>\n",
       "    </tr>\n",
       "  </thead>\n",
       "  <tbody>\n",
       "    <tr>\n",
       "      <th>0</th>\n",
       "      <td>Tōkyō-to Minato-ku Shibakōen</td>\n",
       "      <td>Dining bar</td>\n",
       "      <td>6</td>\n",
       "      <td>0</td>\n",
       "      <td>Monday</td>\n",
       "      <td>0</td>\n",
       "    </tr>\n",
       "    <tr>\n",
       "      <th>1</th>\n",
       "      <td>Tōkyō-to Minato-ku Shibakōen</td>\n",
       "      <td>Izakaya</td>\n",
       "      <td>12</td>\n",
       "      <td>0</td>\n",
       "      <td>Monday</td>\n",
       "      <td>0</td>\n",
       "    </tr>\n",
       "    <tr>\n",
       "      <th>2</th>\n",
       "      <td>Tōkyō-to Minato-ku Shibakōen</td>\n",
       "      <td>Dining bar</td>\n",
       "      <td>6</td>\n",
       "      <td>0</td>\n",
       "      <td>Monday</td>\n",
       "      <td>0</td>\n",
       "    </tr>\n",
       "    <tr>\n",
       "      <th>3</th>\n",
       "      <td>Tōkyō-to Minato-ku Shibakōen</td>\n",
       "      <td>Italian/French</td>\n",
       "      <td>3</td>\n",
       "      <td>0</td>\n",
       "      <td>Monday</td>\n",
       "      <td>0</td>\n",
       "    </tr>\n",
       "    <tr>\n",
       "      <th>4</th>\n",
       "      <td>Tōkyō-to Minato-ku Shibakōen</td>\n",
       "      <td>Izakaya</td>\n",
       "      <td>6</td>\n",
       "      <td>0</td>\n",
       "      <td>Monday</td>\n",
       "      <td>0</td>\n",
       "    </tr>\n",
       "  </tbody>\n",
       "</table>\n",
       "</div>"
      ],
      "text/plain": [
       "                  air_area_name      genre_name  visitors  current_week  \\\n",
       "0  Tōkyō-to Minato-ku Shibakōen      Dining bar         6             0   \n",
       "1  Tōkyō-to Minato-ku Shibakōen         Izakaya        12             0   \n",
       "2  Tōkyō-to Minato-ku Shibakōen      Dining bar         6             0   \n",
       "3  Tōkyō-to Minato-ku Shibakōen  Italian/French         3             0   \n",
       "4  Tōkyō-to Minato-ku Shibakōen         Izakaya         6             0   \n",
       "\n",
       "  day_of_week  holidays  \n",
       "0      Monday         0  \n",
       "1      Monday         0  \n",
       "2      Monday         0  \n",
       "3      Monday         0  \n",
       "4      Monday         0  "
      ]
     },
     "execution_count": 20,
     "metadata": {},
     "output_type": "execute_result"
    }
   ],
   "source": [
    "df=df.drop(columns='Unnamed: 0')\n",
    "df.head()"
   ]
  },
  {
   "cell_type": "code",
   "execution_count": 21,
   "metadata": {},
   "outputs": [],
   "source": [
    "\n",
    "ic_air_ml_df = df.loc[df[\"visitors\"]==0]\n",
    "ic_air_ml_df.head(5)\n",
    "\n",
    "remove_area = ['Hokkaidō Katō-gun Motomachi',\n",
    " 'Niigata-ken Kashiwazaki-shi Chūōchō',\n",
    " 'Fukuoka-ken Fukuoka-shi Tenjin',\n",
    " 'Tōkyō-to Meguro-ku Takaban',\n",
    " 'Tōkyō-to Chiyoda-ku Kanda Jinbōchō',\n",
    " 'Tōkyō-to Musashino-shi Midorichō',\n",
    " 'Tōkyō-to Adachi-ku Chūōhonchō',\n",
    " 'Tōkyō-to Kōtō-ku Tomioka',\n",
    " 'Hokkaidō Sapporo-shi Atsubetsuchūō 1 Jō',\n",
    " 'Tōkyō-to Edogawa-ku Chūō',\n",
    " 'Hokkaidō Sapporo-shi Kita 24 Jōnishi',\n",
    " 'Tōkyō-to Fuchū-shi Miyanishichō',\n",
    " 'Ōsaka-fu Ōsaka-shi Ōhiraki',\n",
    " 'Niigata-ken Niigata-shi Teraohigashi',\n",
    " 'Ōsaka-fu Ōsaka-shi Nanbasennichimae',\n",
    " 'Fukuoka-ken Kitakyūshū-shi Konyamachi',\n",
    " 'Hyōgo-ken Amagasaki-shi Higashinanamatsuchō',\n",
    " 'Tōkyō-to Musashino-shi Kichijōji Honchō',\n",
    " 'Tōkyō-to Taitō-ku Asakusa',\n",
    " 'Ōsaka-fu Suita-shi Izumichō',\n",
    " 'Tōkyō-to Toshima-ku Sugamo',\n",
    " 'Tōkyō-to Meguro-ku Jiyūgaoka',\n",
    " 'Fukuoka-ken Fukuoka-shi Imaizumi',\n",
    " 'Tōkyō-to Shibuya-ku Higashi',\n",
    " 'Tōkyō-to Setagaya-ku Kitazawa']"
   ]
  },
  {
   "cell_type": "code",
   "execution_count": 22,
   "metadata": {},
   "outputs": [],
   "source": [
    "for area in remove_area:\n",
    "    df = df[df.air_area_name != area]"
   ]
  },
  {
   "cell_type": "code",
   "execution_count": 23,
   "metadata": {},
   "outputs": [
    {
     "data": {
      "text/html": [
       "<div>\n",
       "<style scoped>\n",
       "    .dataframe tbody tr th:only-of-type {\n",
       "        vertical-align: middle;\n",
       "    }\n",
       "\n",
       "    .dataframe tbody tr th {\n",
       "        vertical-align: top;\n",
       "    }\n",
       "\n",
       "    .dataframe thead th {\n",
       "        text-align: right;\n",
       "    }\n",
       "</style>\n",
       "<table border=\"1\" class=\"dataframe\">\n",
       "  <thead>\n",
       "    <tr style=\"text-align: right;\">\n",
       "      <th></th>\n",
       "      <th>current_week</th>\n",
       "      <th>air_area_name</th>\n",
       "      <th>genre_name</th>\n",
       "      <th>day_of_week</th>\n",
       "      <th>visitors</th>\n",
       "    </tr>\n",
       "  </thead>\n",
       "  <tbody>\n",
       "    <tr>\n",
       "      <th>0</th>\n",
       "      <td>0</td>\n",
       "      <td>Fukuoka-ken Fukuoka-shi Daimyō</td>\n",
       "      <td>Bar/Cocktail</td>\n",
       "      <td>Friday</td>\n",
       "      <td>56</td>\n",
       "    </tr>\n",
       "    <tr>\n",
       "      <th>1</th>\n",
       "      <td>0</td>\n",
       "      <td>Fukuoka-ken Fukuoka-shi Daimyō</td>\n",
       "      <td>Bar/Cocktail</td>\n",
       "      <td>Monday</td>\n",
       "      <td>22</td>\n",
       "    </tr>\n",
       "    <tr>\n",
       "      <th>2</th>\n",
       "      <td>0</td>\n",
       "      <td>Fukuoka-ken Fukuoka-shi Daimyō</td>\n",
       "      <td>Bar/Cocktail</td>\n",
       "      <td>Saturday</td>\n",
       "      <td>132</td>\n",
       "    </tr>\n",
       "    <tr>\n",
       "      <th>3</th>\n",
       "      <td>0</td>\n",
       "      <td>Fukuoka-ken Fukuoka-shi Daimyō</td>\n",
       "      <td>Bar/Cocktail</td>\n",
       "      <td>Sunday</td>\n",
       "      <td>37</td>\n",
       "    </tr>\n",
       "    <tr>\n",
       "      <th>4</th>\n",
       "      <td>0</td>\n",
       "      <td>Fukuoka-ken Fukuoka-shi Daimyō</td>\n",
       "      <td>Bar/Cocktail</td>\n",
       "      <td>Thursday</td>\n",
       "      <td>42</td>\n",
       "    </tr>\n",
       "  </tbody>\n",
       "</table>\n",
       "</div>"
      ],
      "text/plain": [
       "   current_week                   air_area_name    genre_name day_of_week  \\\n",
       "0             0  Fukuoka-ken Fukuoka-shi Daimyō  Bar/Cocktail      Friday   \n",
       "1             0  Fukuoka-ken Fukuoka-shi Daimyō  Bar/Cocktail      Monday   \n",
       "2             0  Fukuoka-ken Fukuoka-shi Daimyō  Bar/Cocktail    Saturday   \n",
       "3             0  Fukuoka-ken Fukuoka-shi Daimyō  Bar/Cocktail      Sunday   \n",
       "4             0  Fukuoka-ken Fukuoka-shi Daimyō  Bar/Cocktail    Thursday   \n",
       "\n",
       "   visitors  \n",
       "0        56  \n",
       "1        22  \n",
       "2       132  \n",
       "3        37  \n",
       "4        42  "
      ]
     },
     "execution_count": 23,
     "metadata": {},
     "output_type": "execute_result"
    }
   ],
   "source": [
    "group = df.groupby(['current_week', 'air_area_name','genre_name', 'day_of_week'])\n",
    "df = pd.DataFrame(group['visitors'].sum())\n",
    "df = df.reset_index()\n",
    "df.head()"
   ]
  },
  {
   "cell_type": "code",
   "execution_count": 24,
   "metadata": {},
   "outputs": [
    {
     "data": {
      "text/html": [
       "<div>\n",
       "<style scoped>\n",
       "    .dataframe tbody tr th:only-of-type {\n",
       "        vertical-align: middle;\n",
       "    }\n",
       "\n",
       "    .dataframe tbody tr th {\n",
       "        vertical-align: top;\n",
       "    }\n",
       "\n",
       "    .dataframe thead th {\n",
       "        text-align: right;\n",
       "    }\n",
       "</style>\n",
       "<table border=\"1\" class=\"dataframe\">\n",
       "  <thead>\n",
       "    <tr style=\"text-align: right;\">\n",
       "      <th></th>\n",
       "      <th>current_week</th>\n",
       "      <th>air_area_name</th>\n",
       "      <th>genre_name</th>\n",
       "      <th>day_of_week</th>\n",
       "      <th>visitors</th>\n",
       "    </tr>\n",
       "  </thead>\n",
       "  <tbody>\n",
       "    <tr>\n",
       "      <th>0</th>\n",
       "      <td>0</td>\n",
       "      <td>0</td>\n",
       "      <td>1</td>\n",
       "      <td>0</td>\n",
       "      <td>56</td>\n",
       "    </tr>\n",
       "    <tr>\n",
       "      <th>1</th>\n",
       "      <td>0</td>\n",
       "      <td>0</td>\n",
       "      <td>1</td>\n",
       "      <td>1</td>\n",
       "      <td>22</td>\n",
       "    </tr>\n",
       "    <tr>\n",
       "      <th>2</th>\n",
       "      <td>0</td>\n",
       "      <td>0</td>\n",
       "      <td>1</td>\n",
       "      <td>2</td>\n",
       "      <td>132</td>\n",
       "    </tr>\n",
       "    <tr>\n",
       "      <th>3</th>\n",
       "      <td>0</td>\n",
       "      <td>0</td>\n",
       "      <td>1</td>\n",
       "      <td>3</td>\n",
       "      <td>37</td>\n",
       "    </tr>\n",
       "    <tr>\n",
       "      <th>4</th>\n",
       "      <td>0</td>\n",
       "      <td>0</td>\n",
       "      <td>1</td>\n",
       "      <td>4</td>\n",
       "      <td>42</td>\n",
       "    </tr>\n",
       "  </tbody>\n",
       "</table>\n",
       "</div>"
      ],
      "text/plain": [
       "   current_week  air_area_name  genre_name  day_of_week  visitors\n",
       "0             0              0           1            0        56\n",
       "1             0              0           1            1        22\n",
       "2             0              0           1            2       132\n",
       "3             0              0           1            3        37\n",
       "4             0              0           1            4        42"
      ]
     },
     "execution_count": 24,
     "metadata": {},
     "output_type": "execute_result"
    }
   ],
   "source": [
    "from sklearn.preprocessing import LabelEncoder\n",
    "number = LabelEncoder()\n",
    "#df['visit_date'] = number.fit_transform(area_df[\"visit_date\"].astype('str'))\n",
    "df[\"day_of_week\"] = number.fit_transform(df[\"day_of_week\"].astype('str'))\n",
    "df[\"genre_name\"] = number.fit_transform(df[\"genre_name\"].astype('str'))\n",
    "df[\"air_area_name\"] = number.fit_transform(df[\"air_area_name\"].astype('str'))\n",
    "\n",
    "df.head()"
   ]
  },
  {
   "cell_type": "code",
   "execution_count": 25,
   "metadata": {},
   "outputs": [
    {
     "data": {
      "text/plain": [
       "array([[ 0,  0,  1,  0],\n",
       "       [ 0,  0,  1,  1],\n",
       "       [ 0,  0,  1,  2],\n",
       "       ...,\n",
       "       [52, 77, 13,  4],\n",
       "       [52, 77, 13,  5],\n",
       "       [52, 77, 13,  6]], dtype=int64)"
      ]
     },
     "execution_count": 25,
     "metadata": {},
     "output_type": "execute_result"
    }
   ],
   "source": [
    "y = df['visitors']\n",
    "X = df.drop(columns= 'visitors')\n",
    "X = X.values\n",
    "X"
   ]
  },
  {
   "cell_type": "code",
   "execution_count": 26,
   "metadata": {},
   "outputs": [],
   "source": [
    "# #Normalizes values in a list (weak against large outliers)\n",
    "# def min_max_normalize(lst):\n",
    "#     minimum = min(lst)\n",
    "#     maximum = max(lst)\n",
    "#     normalized = []\n",
    "#     for val in lst:\n",
    "#         normalized.append((val-minimum)/(maximum-minimum))\n",
    "#     return normalized"
   ]
  },
  {
   "cell_type": "code",
   "execution_count": 27,
   "metadata": {},
   "outputs": [],
   "source": [
    "# #Normalize values in df\n",
    "# new_dict = {}\n",
    "\n",
    "# for id in df.columns:\n",
    "#     new_dict[id] = min_max_normalize(df[id])\n",
    "        \n",
    "# #create normalized df\n",
    "# new_df = pd.DataFrame(new_dict)\n",
    "\n",
    "# new_df.head()"
   ]
  },
  {
   "cell_type": "code",
   "execution_count": 28,
   "metadata": {},
   "outputs": [],
   "source": [
    "from sklearn.model_selection import train_test_split\n",
    "#split data to training and test\n",
    "X_train, X_test, y_train, y_test = train_test_split(X, y, random_state=42)"
   ]
  },
  {
   "cell_type": "code",
   "execution_count": 29,
   "metadata": {},
   "outputs": [],
   "source": [
    "from sklearn.neighbors import KNeighborsRegressor\n",
    "#create regeressor \n",
    "regressor = KNeighborsRegressor(n_neighbors=5, weights='distance')"
   ]
  },
  {
   "cell_type": "code",
   "execution_count": null,
   "metadata": {},
   "outputs": [],
   "source": []
  },
  {
   "cell_type": "code",
   "execution_count": 30,
   "metadata": {},
   "outputs": [
    {
     "data": {
      "text/plain": [
       "KNeighborsRegressor(algorithm='auto', leaf_size=30, metric='minkowski',\n",
       "          metric_params=None, n_jobs=1, n_neighbors=5, p=2,\n",
       "          weights='distance')"
      ]
     },
     "execution_count": 30,
     "metadata": {},
     "output_type": "execute_result"
    }
   ],
   "source": [
    "regressor.fit(X_train, y_train)"
   ]
  },
  {
   "cell_type": "code",
   "execution_count": 31,
   "metadata": {},
   "outputs": [],
   "source": [
    "#predict training\n",
    "#predict = regressor.predict(X_train)"
   ]
  },
  {
   "cell_type": "code",
   "execution_count": 32,
   "metadata": {},
   "outputs": [],
   "source": [
    "test_predict = regressor.predict(X_test)"
   ]
  },
  {
   "cell_type": "code",
   "execution_count": 33,
   "metadata": {},
   "outputs": [
    {
     "data": {
      "text/plain": [
       "0.6030468212156121"
      ]
     },
     "execution_count": 33,
     "metadata": {},
     "output_type": "execute_result"
    }
   ],
   "source": [
    "#Test R2\n",
    "regressor.score(X_test, y_test)"
   ]
  },
  {
   "cell_type": "code",
   "execution_count": 34,
   "metadata": {},
   "outputs": [
    {
     "name": "stdout",
     "output_type": "stream",
     "text": [
      "k: 1, Train/Test Score: 1.000/0.271\n",
      "k: 3, Train/Test Score: 0.779/0.583\n",
      "k: 5, Train/Test Score: 0.743/0.583\n",
      "k: 7, Train/Test Score: 0.665/0.513\n",
      "k: 9, Train/Test Score: 0.593/0.466\n",
      "k: 11, Train/Test Score: 0.541/0.426\n",
      "k: 13, Train/Test Score: 0.499/0.393\n",
      "k: 15, Train/Test Score: 0.463/0.365\n",
      "k: 17, Train/Test Score: 0.431/0.344\n",
      "k: 19, Train/Test Score: 0.406/0.329\n"
     ]
    },
    {
     "data": {
      "image/png": "[encoded data removed]",
      "text/plain": [
       "<Figure size 432x288 with 1 Axes>"
      ]
     },
     "metadata": {
      "needs_background": "light"
     },
     "output_type": "display_data"
    }
   ],
   "source": [
    "#Check for optimal k\n",
    "train_scores = []\n",
    "test_scores = []\n",
    "for k in range(1, 20, 2):\n",
    "    knn = KNeighborsRegressor(n_neighbors=k)\n",
    "    knn.fit(X_train, y_train)\n",
    "    train_score = knn.score(X_train, y_train)\n",
    "    test_score = knn.score(X_test, y_test)\n",
    "    train_scores.append(train_score)\n",
    "    test_scores.append(test_score)\n",
    "    print(f\"k: {k}, Train/Test Score: {train_score:.3f}/{test_score:.3f}\")\n",
    "    \n",
    "    \n",
    "plt.plot(range(1, 20, 2), train_scores, marker='o',label=\"Training Score\")\n",
    "plt.plot(range(1, 20, 2), test_scores, marker=\"x\", label=\"Testing Score\")\n",
    "plt.xlabel(\"k neighbors\")\n",
    "plt.ylabel(\"Testing accuracy Score\")\n",
    "plt.legend()\n",
    "plt.show()"
   ]
  },
  {
   "cell_type": "code",
   "execution_count": null,
   "metadata": {},
   "outputs": [],
   "source": []
  },
  {
   "cell_type": "code",
   "execution_count": null,
   "metadata": {},
   "outputs": [],
   "source": []
  },
  {
   "cell_type": "code",
   "execution_count": null,
   "metadata": {},
   "outputs": [],
   "source": []
  },
  {
   "cell_type": "code",
   "execution_count": null,
   "metadata": {},
   "outputs": [],
   "source": []
  },
  {
   "cell_type": "code",
   "execution_count": null,
   "metadata": {},
   "outputs": [],
   "source": []
  },
  {
   "cell_type": "code",
   "execution_count": null,
   "metadata": {},
   "outputs": [],
   "source": []
  },
  {
   "cell_type": "code",
   "execution_count": null,
   "metadata": {},
   "outputs": [],
   "source": []
  }
 ],
 "metadata": {
  "kernelspec": {
   "display_name": "Python 3",
   "language": "python",
   "name": "python3"
  },
  "language_info": {
   "codemirror_mode": {
    "name": "ipython",
    "version": 3
   },
   "file_extension": ".py",
   "mimetype": "text/x-python",
   "name": "python",
   "nbconvert_exporter": "python",
   "pygments_lexer": "ipython3",
   "version": "3.7.0"
  }
 },
 "nbformat": 4,
 "nbformat_minor": 2
}
