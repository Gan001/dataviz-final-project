{
 "cells": [
  {
   "cell_type": "code",
   "execution_count": 1,
   "metadata": {},
   "outputs": [],
   "source": [
    "#import dependencies\n",
    "from Text_Processing_API import SentimentAnalysisNLTK\n",
    "import pandas as pd"
   ]
  },
  {
   "cell_type": "code",
   "execution_count": 2,
   "metadata": {},
   "outputs": [],
   "source": [
    "#Create instance object\n",
    "model = SentimentAnalysisNLTK()"
   ]
  },
  {
   "cell_type": "code",
   "execution_count": 3,
   "metadata": {},
   "outputs": [],
   "source": [
    "#list of strings to be analyzed, ONLY USE Strings NO other type \n",
    "texts = ['bad movie', 'good movie', 'the pizza was stale and the service was slow']"
   ]
  },
  {
   "cell_type": "code",
   "execution_count": 4,
   "metadata": {},
   "outputs": [],
   "source": [
    "#perform analysis, unpack list with *, can also pass a single string or multiple strings don't use * for this\n",
    "model.sentiment_analysis(*texts)"
   ]
  },
  {
   "cell_type": "code",
   "execution_count": 5,
   "metadata": {},
   "outputs": [],
   "source": [
    "#Use get_sentiment() to return a dictionary and convert to dataframe\n",
    "df = pd.DataFrame(model.get_sentiment())"
   ]
  },
  {
   "cell_type": "code",
   "execution_count": 6,
   "metadata": {},
   "outputs": [
    {
     "data": {
      "text/html": [
       "<div>\n",
       "<style scoped>\n",
       "    .dataframe tbody tr th:only-of-type {\n",
       "        vertical-align: middle;\n",
       "    }\n",
       "\n",
       "    .dataframe tbody tr th {\n",
       "        vertical-align: top;\n",
       "    }\n",
       "\n",
       "    .dataframe thead th {\n",
       "        text-align: right;\n",
       "    }\n",
       "</style>\n",
       "<table border=\"1\" class=\"dataframe\">\n",
       "  <thead>\n",
       "    <tr style=\"text-align: right;\">\n",
       "      <th></th>\n",
       "      <th>text</th>\n",
       "      <th>label</th>\n",
       "      <th>neg</th>\n",
       "      <th>neutral</th>\n",
       "      <th>pos</th>\n",
       "    </tr>\n",
       "  </thead>\n",
       "  <tbody>\n",
       "    <tr>\n",
       "      <th>0</th>\n",
       "      <td>bad movie</td>\n",
       "      <td>neg</td>\n",
       "      <td>0.820753</td>\n",
       "      <td>0.122871</td>\n",
       "      <td>0.179247</td>\n",
       "    </tr>\n",
       "    <tr>\n",
       "      <th>1</th>\n",
       "      <td>good movie</td>\n",
       "      <td>pos</td>\n",
       "      <td>0.386981</td>\n",
       "      <td>0.148027</td>\n",
       "      <td>0.613019</td>\n",
       "    </tr>\n",
       "    <tr>\n",
       "      <th>2</th>\n",
       "      <td>the pizza was stale and the service was slow</td>\n",
       "      <td>neg</td>\n",
       "      <td>0.767996</td>\n",
       "      <td>0.283537</td>\n",
       "      <td>0.232004</td>\n",
       "    </tr>\n",
       "  </tbody>\n",
       "</table>\n",
       "</div>"
      ],
      "text/plain": [
       "                                           text label       neg   neutral  \\\n",
       "0                                     bad movie   neg  0.820753  0.122871   \n",
       "1                                    good movie   pos  0.386981  0.148027   \n",
       "2  the pizza was stale and the service was slow   neg  0.767996  0.283537   \n",
       "\n",
       "        pos  \n",
       "0  0.179247  \n",
       "1  0.613019  \n",
       "2  0.232004  "
      ]
     },
     "execution_count": 6,
     "metadata": {},
     "output_type": "execute_result"
    }
   ],
   "source": [
    "#preview dataframe\n",
    "df.head()"
   ]
  },
  {
   "cell_type": "code",
   "execution_count": 7,
   "metadata": {},
   "outputs": [
    {
     "name": "stdout",
     "output_type": "stream",
     "text": [
      "{'label': ['neg', 'pos', 'neg'],\n",
      " 'neg': [0.8207528912640936, 0.38698093053495564, 0.7679959869968858],\n",
      " 'neutral': [0.12287117261708243, 0.14802657358754676, 0.28353740351032264],\n",
      " 'pos': [0.1792471087359065, 0.6130190694650444, 0.23200401300311418],\n",
      " 'text': ('bad movie',\n",
      "          'good movie',\n",
      "          'the pizza was stale and the service was slow')}\n"
     ]
    }
   ],
   "source": [
    "#view dictionary of analysis\n",
    "model.display_sentiment()"
   ]
  },
  {
   "cell_type": "code",
   "execution_count": 8,
   "metadata": {},
   "outputs": [
    {
     "name": "stdout",
     "output_type": "stream",
     "text": [
      "{'text': ('bad movie', 'good movie', 'the pizza was stale and the service was slow'), 'label': ['neg', 'pos', 'neg'], 'neg': [0.8207528912640936, 0.38698093053495564, 0.7679959869968858], 'neutral': [0.12287117261708243, 0.14802657358754676, 0.28353740351032264], 'pos': [0.1792471087359065, 0.6130190694650444, 0.23200401300311418]}\n"
     ]
    }
   ],
   "source": [
    "#returns dictionary\n",
    "print(model.get_sentiment())"
   ]
  },
  {
   "cell_type": "code",
   "execution_count": 9,
   "metadata": {},
   "outputs": [],
   "source": [
    "#clears analysis\n",
    "model.clear_sentiment()"
   ]
  },
  {
   "cell_type": "code",
   "execution_count": 10,
   "metadata": {},
   "outputs": [
    {
     "name": "stdout",
     "output_type": "stream",
     "text": [
      "{}\n"
     ]
    }
   ],
   "source": [
    "#Now dictionary is empty\n",
    "model.display_sentiment()"
   ]
  },
  {
   "cell_type": "code",
   "execution_count": 11,
   "metadata": {},
   "outputs": [
    {
     "name": "stdout",
     "output_type": "stream",
     "text": [
      "{}\n"
     ]
    }
   ],
   "source": [
    "print(model.get_sentiment())"
   ]
  },
  {
   "cell_type": "code",
   "execution_count": null,
   "metadata": {},
   "outputs": [],
   "source": []
  }
 ],
 "metadata": {
  "kernelspec": {
   "display_name": "Python 3",
   "language": "python",
   "name": "python3"
  },
  "language_info": {
   "codemirror_mode": {
    "name": "ipython",
    "version": 3
   },
   "file_extension": ".py",
   "mimetype": "text/x-python",
   "name": "python",
   "nbconvert_exporter": "python",
   "pygments_lexer": "ipython3",
   "version": "3.6.7"
  }
 },
 "nbformat": 4,
 "nbformat_minor": 2
}
