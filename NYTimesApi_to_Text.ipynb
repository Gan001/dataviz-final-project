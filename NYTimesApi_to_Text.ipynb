{
 "cells": [
  {
   "cell_type": "code",
   "execution_count": 2,
   "metadata": {},
   "outputs": [
    {
     "name": "stderr",
     "output_type": "stream",
     "text": [
      "[nltk_data] Downloading package punkt to\n",
      "[nltk_data]     C:\\Users\\ejohn\\AppData\\Roaming\\nltk_data...\n",
      "[nltk_data]   Unzipping tokenizers\\punkt.zip.\n"
     ]
    }
   ],
   "source": [
    "# Dependencies\n",
    "import requests\n",
    "import time\n",
    "from pprint import pprint\n",
    "from newspaper import Article\n",
    "import nltk\n",
    "nltk.download('punkt')\n",
    "import pandas as pd"
   ]
  },
  {
   "cell_type": "code",
   "execution_count": 3,
   "metadata": {},
   "outputs": [],
   "source": [
    "api_key = 'usFIFr5gw10QvJ3rNChD1AedG0qJCGUB'\n",
    "url = \"https://api.nytimes.com/svc/search/v2/articlesearch.json?\"\n",
    "\n",
    "# Store a search term\n",
    "query = \"obama\"\n",
    "\n",
    "# Search for articles published between a begin and end date\n",
    "begin_date = \"20160101\"\n",
    "end_date = \"20160130\"\n",
    "\n",
    "query_url = f\"{url}api-key={api_key}&begin_date={begin_date}&end_date={end_date}\""
   ]
  },
  {
   "cell_type": "code",
   "execution_count": 4,
   "metadata": {
    "collapsed": true
   },
   "outputs": [
    {
     "name": "stdout",
     "output_type": "stream",
     "text": [
      "https://api.nytimes.com/svc/search/v2/articlesearch.json?api-key=usFIFr5gw10QvJ3rNChD1AedG0qJCGUB&begin_date=20160101&end_date=20160130\n",
      "A snippet from the article: The company confirmed on Wednesday that Ms. Chiquet was departing “due to differences of opinion about the strategic direction of the company.”\n",
      "A snippet from the article: Mr. Klein, who left the schools in 2010 to work for Rupert Murdoch’s News Corporation as leader of a digital education division, will become a top executive at Oscar.\n",
      "A snippet from the article: An anthropologist looks at tourism’s impact, both good and bad, on communities and biodiversity.\n",
      "A snippet from the article: With the stock below its I.P.O. price and its chief executive, Jack Dorsey, also running Square, a takeover could spare Twitter a fate like Yahoo’s.\n",
      "A snippet from the article: C.S. Venkatakrishnan, the head of operational risk at JPMorgan, would join the British bank as its chief risk officer in May.\n",
      "A snippet from the article: The full chamber is expected to take up Ms. DiFiore’s nomination to lead the Court of Appeals on Thursday.\n",
      "A snippet from the article: Damian and Britt Zunino, the husband-and-wife partners of the New York design firm Studio DB, built a home for weekend getaways.\n",
      "A snippet from the article: Mr. Aravena, who has focused on low-cost social housing and reconstructing after natural disasters, received the honor as Chile emerges as a locus of noteworthy architecture.\n",
      "A snippet from the article: Playing a role as the voice of ships in distress for nautical trainees gives an American living in China a sense of absurdity, and acceptance.\n",
      "A snippet from the article: FoodCorps, a national service group, describes how student tastes can be changed in favor of healthy food.\n"
     ]
    }
   ],
   "source": [
    "# Retrieve articles\n",
    "response = requests.get(query_url).json()\n",
    "articles_list = [article for article in response[\"response\"][\"docs\"]]\n",
    "print(query_url)\n",
    "for article in articles_list:\n",
    "    print(f'A snippet from the article: {article[\"snippet\"]}')"
   ]
  },
  {
   "cell_type": "code",
   "execution_count": 5,
   "metadata": {},
   "outputs": [],
   "source": [
    "# BONUS: How would we get 30 results? \n",
    "# HINT: Look up the page query param\n",
    "\n",
    "# Emply list for articles\n",
    "articles_list = []\n",
    "webs = []\n",
    "response = requests.get(query_url).json()\n",
    "# loop through pages 0-2\n",
    "for page in range(0, 1):\n",
    "    try:\n",
    "        query_url = f\"{url}api-key={api_key}&begin_date={begin_date}&end_date={end_date}\"\n",
    "        # create query with page number\n",
    "        query_url = f\"{query_url}&page={str(page)}\"\n",
    "        articles = requests.get(query_url).json()\n",
    "\n",
    "        # Add a one second interval between queries to stay within API query limits\n",
    "        time.sleep(1)\n",
    "        # loop through the response and append each article to the list\n",
    "        for d in articles[\"response\"][\"docs\"]:\n",
    "            articles_list.append(d)\n",
    "            webs.append(d[\"web_url\"])\n",
    "            \n",
    "    except: \n",
    "        print(str(page))\n",
    "        print(query_url)\n",
    "        print('end')\n",
    "        break\n",
    "        "
   ]
  },
  {
   "cell_type": "code",
   "execution_count": 6,
   "metadata": {},
   "outputs": [
    {
     "name": "stdout",
     "output_type": "stream",
     "text": [
      "A snippet from the article: https://www.nytimes.com/2016/01/05/opinion/whither-crimea.html\n",
      "A snippet from the article: https://www.nytimes.com/2016/01/12/opinion/how-to-help-the-syrians-who-want-to-return-home.html\n",
      "A snippet from the article: https://www.nytimes.com/2016/01/02/technology/looking-beyond-the-internet-of-things.html\n",
      "A snippet from the article: https://www.nytimes.com/2016/01/09/theater/london-international-mime-festival-wordless-physicality-that-smashes-the-glass-box.html\n",
      "A snippet from the article: https://www.nytimes.com/2016/01/06/us/protesters-seek-to-end-policy-that-shaped-west.html\n",
      "A snippet from the article: https://www.nytimes.com/2016/01/06/todayspaper/quotation-of-the-day.html\n",
      "A snippet from the article: https://www.nytimes.com/2016/01/06/nyregion/democrats-pick-ex-prosecutor-to-seek-senate-seat-left-vacant-by-skelos.html\n",
      "A snippet from the article: https://www.nytimes.com/2016/01/06/nyregion/mayor-to-raise-base-pay-for-city-workers-15-an-hour.html\n",
      "A snippet from the article: https://www.nytimes.com/2016/01/06/nyregion/2-brooklyn-schools-will-get-new-zones.html\n",
      "A snippet from the article: https://www.nytimes.com/2016/01/07/business/global-brands-taking-cue-from-tinkerers-explore-crowdfunding.html\n"
     ]
    }
   ],
   "source": [
    "for article in articles_list:\n",
    "    print(f'A snippet from the article: {article[\"web_url\"]}')"
   ]
  },
  {
   "cell_type": "code",
   "execution_count": 7,
   "metadata": {},
   "outputs": [
    {
     "data": {
      "text/plain": [
       "10"
      ]
     },
     "execution_count": 7,
     "metadata": {},
     "output_type": "execute_result"
    }
   ],
   "source": [
    "len(articles_list)"
   ]
  },
  {
   "cell_type": "code",
   "execution_count": 8,
   "metadata": {},
   "outputs": [
    {
     "name": "stdout",
     "output_type": "stream",
     "text": [
      "['https://www.nytimes.com/2016/01/05/opinion/whither-crimea.html', 'https://www.nytimes.com/2016/01/12/opinion/how-to-help-the-syrians-who-want-to-return-home.html', 'https://www.nytimes.com/2016/01/02/technology/looking-beyond-the-internet-of-things.html', 'https://www.nytimes.com/2016/01/09/theater/london-international-mime-festival-wordless-physicality-that-smashes-the-glass-box.html', 'https://www.nytimes.com/2016/01/06/us/protesters-seek-to-end-policy-that-shaped-west.html', 'https://www.nytimes.com/2016/01/06/todayspaper/quotation-of-the-day.html', 'https://www.nytimes.com/2016/01/06/nyregion/democrats-pick-ex-prosecutor-to-seek-senate-seat-left-vacant-by-skelos.html', 'https://www.nytimes.com/2016/01/06/nyregion/mayor-to-raise-base-pay-for-city-workers-15-an-hour.html', 'https://www.nytimes.com/2016/01/06/nyregion/2-brooklyn-schools-will-get-new-zones.html', 'https://www.nytimes.com/2016/01/07/business/global-brands-taking-cue-from-tinkerers-explore-crowdfunding.html']\n"
     ]
    }
   ],
   "source": [
    "print(webs)"
   ]
  },
  {
   "cell_type": "code",
   "execution_count": 9,
   "metadata": {},
   "outputs": [],
   "source": [
    "article = Article(webs[0])"
   ]
  },
  {
   "cell_type": "code",
   "execution_count": 10,
   "metadata": {},
   "outputs": [
    {
     "name": "stdout",
     "output_type": "stream",
     "text": [
      "<newspaper.article.Article object at 0x000002475F09F710>\n"
     ]
    }
   ],
   "source": [
    "print(article)\n",
    "article.download()\n",
    "article.parse()\n",
    "article.nlp()\n",
    "article_info = ([article.title, article.publish_date, article.authors,\n",
    "          article.summary, article.keywords, article.text,\n",
    "         article.url])"
   ]
  },
  {
   "cell_type": "code",
   "execution_count": 11,
   "metadata": {},
   "outputs": [
    {
     "name": "stdout",
     "output_type": "stream",
     "text": [
      "['Opinion | Whither Crimea?', datetime.datetime(2016, 1, 5, 0, 0), [], 'To the Editor:Dimiter Kenarov asks us to accept Russia’s illegal annexation of Crimea (“Ending Crimea’s Isolation,” Op-Ed, nytimes.com, Dec. 27).\\nIn 2014 Russia invaded Crimea, part of sovereign Ukraine, sending in Russian soldiers in unmarked uniforms to occupy the peninsula.\\nIt took more than 60 years, but the three Baltic countries are now members of the European Union and NATO.\\nAs we did in the Second World War and during the Cold War, we should resist armed aggression against sovereign nations.\\nWe should maintain and toughen the economic sanctions in coordination with the European Union until Russia withdraws from Donbass and Crimea.', ['war', 'european', 'annexation', 'crimea', 'world', 'sending', 'ukraine', 'russian', 'union', 'sovereign', 'opinion'], 'To the Editor:\\n\\nDimiter Kenarov asks us to accept Russia’s illegal annexation of Crimea (“Ending Crimea’s Isolation,” Op-Ed, nytimes.com, Dec. 27). We should not.\\n\\nIn 2014 Russia invaded Crimea, part of sovereign Ukraine, sending in Russian soldiers in unmarked uniforms to occupy the peninsula. This was the first armed, cross-border invasion of one European country by another since World War II. President Vladimir V. Putin first denied sending the Russian Army into Crimea. He later admitted that he had lied. (He also denied sending the Russian military into the Donbass region, in southeastern Ukraine, and has tacitly admitted that he lied about that, too.)\\n\\nThe United States never recognized the Soviet annexation of Latvia, Estonia and Lithuania in World War II. It took more than 60 years, but the three Baltic countries are now members of the European Union and NATO. The West should never recognize the attempted annexation of Crimea.\\n\\nAs we did in the Second World War and during the Cold War, we should resist armed aggression against sovereign nations. We should maintain and toughen the economic sanctions in coordination with the European Union until Russia withdraws from Donbass and Crimea.', 'https://www.nytimes.com/2016/01/05/opinion/whither-crimea.html']\n"
     ]
    }
   ],
   "source": [
    "print(article_info)"
   ]
  },
  {
   "cell_type": "code",
   "execution_count": 15,
   "metadata": {},
   "outputs": [
    {
     "name": "stdout",
     "output_type": "stream",
     "text": [
      "https://www.nytimes.com/2016/01/05/opinion/whither-crimea.html\n",
      "<newspaper.article.Article object at 0x000002475F002C88>\n",
      "https://www.nytimes.com/2016/01/12/opinion/how-to-help-the-syrians-who-want-to-return-home.html\n",
      "<newspaper.article.Article object at 0x000002475F2C1A90>\n",
      "https://www.nytimes.com/2016/01/02/technology/looking-beyond-the-internet-of-things.html\n",
      "<newspaper.article.Article object at 0x000002475F2E56D8>\n",
      "https://www.nytimes.com/2016/01/09/theater/london-international-mime-festival-wordless-physicality-that-smashes-the-glass-box.html\n",
      "<newspaper.article.Article object at 0x000002475F18AE80>\n",
      "https://www.nytimes.com/2016/01/06/us/protesters-seek-to-end-policy-that-shaped-west.html\n",
      "<newspaper.article.Article object at 0x000002475F2E56D8>\n",
      "https://www.nytimes.com/2016/01/06/todayspaper/quotation-of-the-day.html\n",
      "<newspaper.article.Article object at 0x000002475F09FCC0>\n",
      "https://www.nytimes.com/2016/01/06/nyregion/democrats-pick-ex-prosecutor-to-seek-senate-seat-left-vacant-by-skelos.html\n",
      "<newspaper.article.Article object at 0x000002475F15DE48>\n",
      "https://www.nytimes.com/2016/01/06/nyregion/mayor-to-raise-base-pay-for-city-workers-15-an-hour.html\n",
      "<newspaper.article.Article object at 0x000002475F18ADD8>\n",
      "https://www.nytimes.com/2016/01/06/nyregion/2-brooklyn-schools-will-get-new-zones.html\n",
      "<newspaper.article.Article object at 0x000002475F2E56D8>\n",
      "https://www.nytimes.com/2016/01/07/business/global-brands-taking-cue-from-tinkerers-explore-crowdfunding.html\n",
      "<newspaper.article.Article object at 0x000002475F2E0B38>\n"
     ]
    }
   ],
   "source": [
    "text = []\n",
    "for address in webs: \n",
    "    print(address)\n",
    "    try:\n",
    "        article = Article(address)\n",
    "        print(article)\n",
    "        article.download()\n",
    "        article.parse()\n",
    "        article.nlp()\n",
    "        article_info = ([article.title, article.publish_date, article.authors,\n",
    "                  article.summary, article.keywords, article.text,\n",
    "                 article.url])\n",
    "    except:\n",
    "        pass\n",
    "\n",
    "    text.append(article_info)\n",
    "\n",
    "newspaper_dataset = pd.DataFrame(text, columns=['Title', 'Date','Authors', 'Summary', 'Keywords', 'Text', \"Url\"])"
   ]
  },
  {
   "cell_type": "code",
   "execution_count": 16,
   "metadata": {},
   "outputs": [
    {
     "data": {
      "text/html": [
       "<div>\n",
       "<style scoped>\n",
       "    .dataframe tbody tr th:only-of-type {\n",
       "        vertical-align: middle;\n",
       "    }\n",
       "\n",
       "    .dataframe tbody tr th {\n",
       "        vertical-align: top;\n",
       "    }\n",
       "\n",
       "    .dataframe thead th {\n",
       "        text-align: right;\n",
       "    }\n",
       "</style>\n",
       "<table border=\"1\" class=\"dataframe\">\n",
       "  <thead>\n",
       "    <tr style=\"text-align: right;\">\n",
       "      <th></th>\n",
       "      <th>Title</th>\n",
       "      <th>Date</th>\n",
       "      <th>Authors</th>\n",
       "      <th>Summary</th>\n",
       "      <th>Keywords</th>\n",
       "      <th>Text</th>\n",
       "      <th>Url</th>\n",
       "    </tr>\n",
       "  </thead>\n",
       "  <tbody>\n",
       "    <tr>\n",
       "      <th>0</th>\n",
       "      <td>Opinion | Whither Crimea?</td>\n",
       "      <td>2016-01-05</td>\n",
       "      <td>[]</td>\n",
       "      <td>To the Editor:Dimiter Kenarov asks us to accep...</td>\n",
       "      <td>[war, european, annexation, crimea, world, sen...</td>\n",
       "      <td>To the Editor:\\n\\nDimiter Kenarov asks us to a...</td>\n",
       "      <td>https://www.nytimes.com/2016/01/05/opinion/whi...</td>\n",
       "    </tr>\n",
       "    <tr>\n",
       "      <th>1</th>\n",
       "      <td>Opinion | How to Help the Syrians Who Want to ...</td>\n",
       "      <td>2016-01-12</td>\n",
       "      <td>[Maureen White]</td>\n",
       "      <td>IN the aftermath of terrorist attacks in Paris...</td>\n",
       "      <td>[war, syrian, refugee, syrians, refugees, mill...</td>\n",
       "      <td>IN the aftermath of terrorist attacks in Paris...</td>\n",
       "      <td>https://www.nytimes.com/2016/01/12/opinion/how...</td>\n",
       "    </tr>\n",
       "    <tr>\n",
       "      <th>2</th>\n",
       "      <td>Looking Beyond the Internet of Things</td>\n",
       "      <td>2016-01-02</td>\n",
       "      <td>[Quentin Hardy]</td>\n",
       "      <td>SAN FRANCISCO — If you have sent email on Goog...</td>\n",
       "      <td>[internet, big, google, looking, bosworth, thi...</td>\n",
       "      <td>SAN FRANCISCO — If you have sent email on Goog...</td>\n",
       "      <td>https://www.nytimes.com/2016/01/02/technology/...</td>\n",
       "    </tr>\n",
       "    <tr>\n",
       "      <th>3</th>\n",
       "      <td>London International Mime Festival: Wordless P...</td>\n",
       "      <td>2016-01-09</td>\n",
       "      <td>[Matt Trueman]</td>\n",
       "      <td>LONDON — Mime: “Nowadays, you say the word, an...</td>\n",
       "      <td>[way, international, physicality, mime, word, ...</td>\n",
       "      <td>LONDON — Mime: “Nowadays, you say the word, an...</td>\n",
       "      <td>https://www.nytimes.com/2016/01/09/theater/lon...</td>\n",
       "    </tr>\n",
       "    <tr>\n",
       "      <th>4</th>\n",
       "      <td>Protesters in Oregon Seek to End Policy That S...</td>\n",
       "      <td>2016-01-06</td>\n",
       "      <td>[Kirk Johnson, Jack Healy]</td>\n",
       "      <td>BURNS, Ore. — They used to call it Bundyville,...</td>\n",
       "      <td>[lands, policy, armed, shaped, end, public, se...</td>\n",
       "      <td>BURNS, Ore. — They used to call it Bundyville,...</td>\n",
       "      <td>https://www.nytimes.com/2016/01/06/us/proteste...</td>\n",
       "    </tr>\n",
       "  </tbody>\n",
       "</table>\n",
       "</div>"
      ],
      "text/plain": [
       "                                               Title       Date  \\\n",
       "0                          Opinion | Whither Crimea? 2016-01-05   \n",
       "1  Opinion | How to Help the Syrians Who Want to ... 2016-01-12   \n",
       "2              Looking Beyond the Internet of Things 2016-01-02   \n",
       "3  London International Mime Festival: Wordless P... 2016-01-09   \n",
       "4  Protesters in Oregon Seek to End Policy That S... 2016-01-06   \n",
       "\n",
       "                      Authors  \\\n",
       "0                          []   \n",
       "1             [Maureen White]   \n",
       "2             [Quentin Hardy]   \n",
       "3              [Matt Trueman]   \n",
       "4  [Kirk Johnson, Jack Healy]   \n",
       "\n",
       "                                             Summary  \\\n",
       "0  To the Editor:Dimiter Kenarov asks us to accep...   \n",
       "1  IN the aftermath of terrorist attacks in Paris...   \n",
       "2  SAN FRANCISCO — If you have sent email on Goog...   \n",
       "3  LONDON — Mime: “Nowadays, you say the word, an...   \n",
       "4  BURNS, Ore. — They used to call it Bundyville,...   \n",
       "\n",
       "                                            Keywords  \\\n",
       "0  [war, european, annexation, crimea, world, sen...   \n",
       "1  [war, syrian, refugee, syrians, refugees, mill...   \n",
       "2  [internet, big, google, looking, bosworth, thi...   \n",
       "3  [way, international, physicality, mime, word, ...   \n",
       "4  [lands, policy, armed, shaped, end, public, se...   \n",
       "\n",
       "                                                Text  \\\n",
       "0  To the Editor:\\n\\nDimiter Kenarov asks us to a...   \n",
       "1  IN the aftermath of terrorist attacks in Paris...   \n",
       "2  SAN FRANCISCO — If you have sent email on Goog...   \n",
       "3  LONDON — Mime: “Nowadays, you say the word, an...   \n",
       "4  BURNS, Ore. — They used to call it Bundyville,...   \n",
       "\n",
       "                                                 Url  \n",
       "0  https://www.nytimes.com/2016/01/05/opinion/whi...  \n",
       "1  https://www.nytimes.com/2016/01/12/opinion/how...  \n",
       "2  https://www.nytimes.com/2016/01/02/technology/...  \n",
       "3  https://www.nytimes.com/2016/01/09/theater/lon...  \n",
       "4  https://www.nytimes.com/2016/01/06/us/proteste...  "
      ]
     },
     "execution_count": 16,
     "metadata": {},
     "output_type": "execute_result"
    }
   ],
   "source": [
    "newspaper_dataset.head()"
   ]
  },
  {
   "cell_type": "code",
   "execution_count": 17,
   "metadata": {},
   "outputs": [
    {
     "name": "stdout",
     "output_type": "stream",
     "text": [
      "To the Editor:\n",
      "\n",
      "Dimiter Kenarov asks us to accept Russia’s illegal annexation of Crimea (“Ending Crimea’s Isolation,” Op-Ed, nytimes.com, Dec. 27). We should not.\n",
      "\n",
      "In 2014 Russia invaded Crimea, part of sovereign Ukraine, sending in Russian soldiers in unmarked uniforms to occupy the peninsula. This was the first armed, cross-border invasion of one European country by another since World War II. President Vladimir V. Putin first denied sending the Russian Army into Crimea. He later admitted that he had lied. (He also denied sending the Russian military into the Donbass region, in southeastern Ukraine, and has tacitly admitted that he lied about that, too.)\n",
      "\n",
      "The United States never recognized the Soviet annexation of Latvia, Estonia and Lithuania in World War II. It took more than 60 years, but the three Baltic countries are now members of the European Union and NATO. The West should never recognize the attempted annexation of Crimea.\n",
      "\n",
      "As we did in the Second World War and during the Cold War, we should resist armed aggression against sovereign nations. We should maintain and toughen the economic sanctions in coordination with the European Union until Russia withdraws from Donbass and Crimea.\n"
     ]
    }
   ],
   "source": [
    "print(newspaper_dataset['Text'][0])"
   ]
  },
  {
   "cell_type": "code",
   "execution_count": 18,
   "metadata": {},
   "outputs": [
    {
     "data": {
      "text/html": [
       "<div>\n",
       "<style scoped>\n",
       "    .dataframe tbody tr th:only-of-type {\n",
       "        vertical-align: middle;\n",
       "    }\n",
       "\n",
       "    .dataframe tbody tr th {\n",
       "        vertical-align: top;\n",
       "    }\n",
       "\n",
       "    .dataframe thead th {\n",
       "        text-align: right;\n",
       "    }\n",
       "</style>\n",
       "<table border=\"1\" class=\"dataframe\">\n",
       "  <thead>\n",
       "    <tr style=\"text-align: right;\">\n",
       "      <th></th>\n",
       "      <th>Title</th>\n",
       "      <th>Date</th>\n",
       "      <th>Authors</th>\n",
       "      <th>Summary</th>\n",
       "      <th>Keywords</th>\n",
       "      <th>Text</th>\n",
       "      <th>Url</th>\n",
       "    </tr>\n",
       "  </thead>\n",
       "  <tbody>\n",
       "    <tr>\n",
       "      <th>2</th>\n",
       "      <td>Looking Beyond the Internet of Things</td>\n",
       "      <td>2016-01-02</td>\n",
       "      <td>[Quentin Hardy]</td>\n",
       "      <td>SAN FRANCISCO — If you have sent email on Goog...</td>\n",
       "      <td>[internet, big, google, looking, bosworth, thi...</td>\n",
       "      <td>SAN FRANCISCO — If you have sent email on Goog...</td>\n",
       "      <td>https://www.nytimes.com/2016/01/02/technology/...</td>\n",
       "    </tr>\n",
       "    <tr>\n",
       "      <th>0</th>\n",
       "      <td>Opinion | Whither Crimea?</td>\n",
       "      <td>2016-01-05</td>\n",
       "      <td>[]</td>\n",
       "      <td>To the Editor:Dimiter Kenarov asks us to accep...</td>\n",
       "      <td>[war, european, annexation, crimea, world, sen...</td>\n",
       "      <td>To the Editor:\\n\\nDimiter Kenarov asks us to a...</td>\n",
       "      <td>https://www.nytimes.com/2016/01/05/opinion/whi...</td>\n",
       "    </tr>\n",
       "    <tr>\n",
       "      <th>4</th>\n",
       "      <td>Protesters in Oregon Seek to End Policy That S...</td>\n",
       "      <td>2016-01-06</td>\n",
       "      <td>[Kirk Johnson, Jack Healy]</td>\n",
       "      <td>BURNS, Ore. — They used to call it Bundyville,...</td>\n",
       "      <td>[lands, policy, armed, shaped, end, public, se...</td>\n",
       "      <td>BURNS, Ore. — They used to call it Bundyville,...</td>\n",
       "      <td>https://www.nytimes.com/2016/01/06/us/proteste...</td>\n",
       "    </tr>\n",
       "    <tr>\n",
       "      <th>5</th>\n",
       "      <td>Quotation of the Day</td>\n",
       "      <td>2016-01-06</td>\n",
       "      <td>[]</td>\n",
       "      <td>“First graders.\\nEvery time I think about thos...</td>\n",
       "      <td>[day, vowed, kids, violence, obama, killed, ho...</td>\n",
       "      <td>“First graders. Every time I think about those...</td>\n",
       "      <td>https://www.nytimes.com/2016/01/06/todayspaper...</td>\n",
       "    </tr>\n",
       "    <tr>\n",
       "      <th>6</th>\n",
       "      <td>Democrats Pick Ex-Prosecutor to Seek Senate Se...</td>\n",
       "      <td>2016-01-06</td>\n",
       "      <td>[Alexander Burns]</td>\n",
       "      <td>Democrats on Long Island have picked Assemblym...</td>\n",
       "      <td>[left, democrats, exprosecutor, senate, seat, ...</td>\n",
       "      <td>Democrats on Long Island have picked Assemblym...</td>\n",
       "      <td>https://www.nytimes.com/2016/01/06/nyregion/de...</td>\n",
       "    </tr>\n",
       "  </tbody>\n",
       "</table>\n",
       "</div>"
      ],
      "text/plain": [
       "                                               Title       Date  \\\n",
       "2              Looking Beyond the Internet of Things 2016-01-02   \n",
       "0                          Opinion | Whither Crimea? 2016-01-05   \n",
       "4  Protesters in Oregon Seek to End Policy That S... 2016-01-06   \n",
       "5                               Quotation of the Day 2016-01-06   \n",
       "6  Democrats Pick Ex-Prosecutor to Seek Senate Se... 2016-01-06   \n",
       "\n",
       "                      Authors  \\\n",
       "2             [Quentin Hardy]   \n",
       "0                          []   \n",
       "4  [Kirk Johnson, Jack Healy]   \n",
       "5                          []   \n",
       "6           [Alexander Burns]   \n",
       "\n",
       "                                             Summary  \\\n",
       "2  SAN FRANCISCO — If you have sent email on Goog...   \n",
       "0  To the Editor:Dimiter Kenarov asks us to accep...   \n",
       "4  BURNS, Ore. — They used to call it Bundyville,...   \n",
       "5  “First graders.\\nEvery time I think about thos...   \n",
       "6  Democrats on Long Island have picked Assemblym...   \n",
       "\n",
       "                                            Keywords  \\\n",
       "2  [internet, big, google, looking, bosworth, thi...   \n",
       "0  [war, european, annexation, crimea, world, sen...   \n",
       "4  [lands, policy, armed, shaped, end, public, se...   \n",
       "5  [day, vowed, kids, violence, obama, killed, ho...   \n",
       "6  [left, democrats, exprosecutor, senate, seat, ...   \n",
       "\n",
       "                                                Text  \\\n",
       "2  SAN FRANCISCO — If you have sent email on Goog...   \n",
       "0  To the Editor:\\n\\nDimiter Kenarov asks us to a...   \n",
       "4  BURNS, Ore. — They used to call it Bundyville,...   \n",
       "5  “First graders. Every time I think about those...   \n",
       "6  Democrats on Long Island have picked Assemblym...   \n",
       "\n",
       "                                                 Url  \n",
       "2  https://www.nytimes.com/2016/01/02/technology/...  \n",
       "0  https://www.nytimes.com/2016/01/05/opinion/whi...  \n",
       "4  https://www.nytimes.com/2016/01/06/us/proteste...  \n",
       "5  https://www.nytimes.com/2016/01/06/todayspaper...  \n",
       "6  https://www.nytimes.com/2016/01/06/nyregion/de...  "
      ]
     },
     "execution_count": 18,
     "metadata": {},
     "output_type": "execute_result"
    }
   ],
   "source": [
    "newspaper_dataset.sort_values(\"Date\", inplace=True)\n",
    "newspaper_dataset.head()"
   ]
  },
  {
   "cell_type": "code",
   "execution_count": 19,
   "metadata": {},
   "outputs": [],
   "source": [
    "df = newspaper_dataset.reset_index()"
   ]
  },
  {
   "cell_type": "code",
   "execution_count": 22,
   "metadata": {},
   "outputs": [
    {
     "ename": "KeyError",
     "evalue": "\"['index'] not found in axis\"",
     "output_type": "error",
     "traceback": [
      "\u001b[1;31m---------------------------------------------------------------------------\u001b[0m",
      "\u001b[1;31mKeyError\u001b[0m                                  Traceback (most recent call last)",
      "\u001b[1;32m<ipython-input-22-c8fe07c6b4ef>\u001b[0m in \u001b[0;36m<module>\u001b[1;34m\u001b[0m\n\u001b[1;32m----> 1\u001b[1;33m \u001b[0mdf\u001b[0m\u001b[1;33m=\u001b[0m \u001b[0mdf\u001b[0m\u001b[1;33m.\u001b[0m\u001b[0mdrop\u001b[0m\u001b[1;33m(\u001b[0m\u001b[0mcolumns\u001b[0m\u001b[1;33m=\u001b[0m\u001b[1;33m[\u001b[0m\u001b[1;34m'index'\u001b[0m\u001b[1;33m]\u001b[0m\u001b[1;33m)\u001b[0m\u001b[1;33m\u001b[0m\u001b[1;33m\u001b[0m\u001b[0m\n\u001b[0m\u001b[0;32m      2\u001b[0m \u001b[0mdf\u001b[0m\u001b[1;33m.\u001b[0m\u001b[0mhead\u001b[0m\u001b[1;33m(\u001b[0m\u001b[1;36m12\u001b[0m\u001b[1;33m)\u001b[0m\u001b[1;33m\u001b[0m\u001b[1;33m\u001b[0m\u001b[0m\n",
      "\u001b[1;32m~\\AppData\\Local\\Continuum\\anaconda3\\lib\\site-packages\\pandas\\core\\frame.py\u001b[0m in \u001b[0;36mdrop\u001b[1;34m(self, labels, axis, index, columns, level, inplace, errors)\u001b[0m\n\u001b[0;32m   3695\u001b[0m                                            \u001b[0mindex\u001b[0m\u001b[1;33m=\u001b[0m\u001b[0mindex\u001b[0m\u001b[1;33m,\u001b[0m \u001b[0mcolumns\u001b[0m\u001b[1;33m=\u001b[0m\u001b[0mcolumns\u001b[0m\u001b[1;33m,\u001b[0m\u001b[1;33m\u001b[0m\u001b[1;33m\u001b[0m\u001b[0m\n\u001b[0;32m   3696\u001b[0m                                            \u001b[0mlevel\u001b[0m\u001b[1;33m=\u001b[0m\u001b[0mlevel\u001b[0m\u001b[1;33m,\u001b[0m \u001b[0minplace\u001b[0m\u001b[1;33m=\u001b[0m\u001b[0minplace\u001b[0m\u001b[1;33m,\u001b[0m\u001b[1;33m\u001b[0m\u001b[1;33m\u001b[0m\u001b[0m\n\u001b[1;32m-> 3697\u001b[1;33m                                            errors=errors)\n\u001b[0m\u001b[0;32m   3698\u001b[0m \u001b[1;33m\u001b[0m\u001b[0m\n\u001b[0;32m   3699\u001b[0m     @rewrite_axis_style_signature('mapper', [('copy', True),\n",
      "\u001b[1;32m~\\AppData\\Local\\Continuum\\anaconda3\\lib\\site-packages\\pandas\\core\\generic.py\u001b[0m in \u001b[0;36mdrop\u001b[1;34m(self, labels, axis, index, columns, level, inplace, errors)\u001b[0m\n\u001b[0;32m   3109\u001b[0m         \u001b[1;32mfor\u001b[0m \u001b[0maxis\u001b[0m\u001b[1;33m,\u001b[0m \u001b[0mlabels\u001b[0m \u001b[1;32min\u001b[0m \u001b[0maxes\u001b[0m\u001b[1;33m.\u001b[0m\u001b[0mitems\u001b[0m\u001b[1;33m(\u001b[0m\u001b[1;33m)\u001b[0m\u001b[1;33m:\u001b[0m\u001b[1;33m\u001b[0m\u001b[1;33m\u001b[0m\u001b[0m\n\u001b[0;32m   3110\u001b[0m             \u001b[1;32mif\u001b[0m \u001b[0mlabels\u001b[0m \u001b[1;32mis\u001b[0m \u001b[1;32mnot\u001b[0m \u001b[1;32mNone\u001b[0m\u001b[1;33m:\u001b[0m\u001b[1;33m\u001b[0m\u001b[1;33m\u001b[0m\u001b[0m\n\u001b[1;32m-> 3111\u001b[1;33m                 \u001b[0mobj\u001b[0m \u001b[1;33m=\u001b[0m \u001b[0mobj\u001b[0m\u001b[1;33m.\u001b[0m\u001b[0m_drop_axis\u001b[0m\u001b[1;33m(\u001b[0m\u001b[0mlabels\u001b[0m\u001b[1;33m,\u001b[0m \u001b[0maxis\u001b[0m\u001b[1;33m,\u001b[0m \u001b[0mlevel\u001b[0m\u001b[1;33m=\u001b[0m\u001b[0mlevel\u001b[0m\u001b[1;33m,\u001b[0m \u001b[0merrors\u001b[0m\u001b[1;33m=\u001b[0m\u001b[0merrors\u001b[0m\u001b[1;33m)\u001b[0m\u001b[1;33m\u001b[0m\u001b[1;33m\u001b[0m\u001b[0m\n\u001b[0m\u001b[0;32m   3112\u001b[0m \u001b[1;33m\u001b[0m\u001b[0m\n\u001b[0;32m   3113\u001b[0m         \u001b[1;32mif\u001b[0m \u001b[0minplace\u001b[0m\u001b[1;33m:\u001b[0m\u001b[1;33m\u001b[0m\u001b[1;33m\u001b[0m\u001b[0m\n",
      "\u001b[1;32m~\\AppData\\Local\\Continuum\\anaconda3\\lib\\site-packages\\pandas\\core\\generic.py\u001b[0m in \u001b[0;36m_drop_axis\u001b[1;34m(self, labels, axis, level, errors)\u001b[0m\n\u001b[0;32m   3141\u001b[0m                 \u001b[0mnew_axis\u001b[0m \u001b[1;33m=\u001b[0m \u001b[0maxis\u001b[0m\u001b[1;33m.\u001b[0m\u001b[0mdrop\u001b[0m\u001b[1;33m(\u001b[0m\u001b[0mlabels\u001b[0m\u001b[1;33m,\u001b[0m \u001b[0mlevel\u001b[0m\u001b[1;33m=\u001b[0m\u001b[0mlevel\u001b[0m\u001b[1;33m,\u001b[0m \u001b[0merrors\u001b[0m\u001b[1;33m=\u001b[0m\u001b[0merrors\u001b[0m\u001b[1;33m)\u001b[0m\u001b[1;33m\u001b[0m\u001b[1;33m\u001b[0m\u001b[0m\n\u001b[0;32m   3142\u001b[0m             \u001b[1;32melse\u001b[0m\u001b[1;33m:\u001b[0m\u001b[1;33m\u001b[0m\u001b[1;33m\u001b[0m\u001b[0m\n\u001b[1;32m-> 3143\u001b[1;33m                 \u001b[0mnew_axis\u001b[0m \u001b[1;33m=\u001b[0m \u001b[0maxis\u001b[0m\u001b[1;33m.\u001b[0m\u001b[0mdrop\u001b[0m\u001b[1;33m(\u001b[0m\u001b[0mlabels\u001b[0m\u001b[1;33m,\u001b[0m \u001b[0merrors\u001b[0m\u001b[1;33m=\u001b[0m\u001b[0merrors\u001b[0m\u001b[1;33m)\u001b[0m\u001b[1;33m\u001b[0m\u001b[1;33m\u001b[0m\u001b[0m\n\u001b[0m\u001b[0;32m   3144\u001b[0m             \u001b[0mresult\u001b[0m \u001b[1;33m=\u001b[0m \u001b[0mself\u001b[0m\u001b[1;33m.\u001b[0m\u001b[0mreindex\u001b[0m\u001b[1;33m(\u001b[0m\u001b[1;33m**\u001b[0m\u001b[1;33m{\u001b[0m\u001b[0maxis_name\u001b[0m\u001b[1;33m:\u001b[0m \u001b[0mnew_axis\u001b[0m\u001b[1;33m}\u001b[0m\u001b[1;33m)\u001b[0m\u001b[1;33m\u001b[0m\u001b[1;33m\u001b[0m\u001b[0m\n\u001b[0;32m   3145\u001b[0m \u001b[1;33m\u001b[0m\u001b[0m\n",
      "\u001b[1;32m~\\AppData\\Local\\Continuum\\anaconda3\\lib\\site-packages\\pandas\\core\\indexes\\base.py\u001b[0m in \u001b[0;36mdrop\u001b[1;34m(self, labels, errors)\u001b[0m\n\u001b[0;32m   4402\u001b[0m             \u001b[1;32mif\u001b[0m \u001b[0merrors\u001b[0m \u001b[1;33m!=\u001b[0m \u001b[1;34m'ignore'\u001b[0m\u001b[1;33m:\u001b[0m\u001b[1;33m\u001b[0m\u001b[1;33m\u001b[0m\u001b[0m\n\u001b[0;32m   4403\u001b[0m                 raise KeyError(\n\u001b[1;32m-> 4404\u001b[1;33m                     '{} not found in axis'.format(labels[mask]))\n\u001b[0m\u001b[0;32m   4405\u001b[0m             \u001b[0mindexer\u001b[0m \u001b[1;33m=\u001b[0m \u001b[0mindexer\u001b[0m\u001b[1;33m[\u001b[0m\u001b[1;33m~\u001b[0m\u001b[0mmask\u001b[0m\u001b[1;33m]\u001b[0m\u001b[1;33m\u001b[0m\u001b[1;33m\u001b[0m\u001b[0m\n\u001b[0;32m   4406\u001b[0m         \u001b[1;32mreturn\u001b[0m \u001b[0mself\u001b[0m\u001b[1;33m.\u001b[0m\u001b[0mdelete\u001b[0m\u001b[1;33m(\u001b[0m\u001b[0mindexer\u001b[0m\u001b[1;33m)\u001b[0m\u001b[1;33m\u001b[0m\u001b[1;33m\u001b[0m\u001b[0m\n",
      "\u001b[1;31mKeyError\u001b[0m: \"['index'] not found in axis\""
     ]
    }
   ],
   "source": [
    "df= df.drop(columns=['index'])\n",
    "df.head()"
   ]
  },
  {
   "cell_type": "code",
   "execution_count": 24,
   "metadata": {},
   "outputs": [
    {
     "data": {
      "text/html": [
       "<div>\n",
       "<style scoped>\n",
       "    .dataframe tbody tr th:only-of-type {\n",
       "        vertical-align: middle;\n",
       "    }\n",
       "\n",
       "    .dataframe tbody tr th {\n",
       "        vertical-align: top;\n",
       "    }\n",
       "\n",
       "    .dataframe thead th {\n",
       "        text-align: right;\n",
       "    }\n",
       "</style>\n",
       "<table border=\"1\" class=\"dataframe\">\n",
       "  <thead>\n",
       "    <tr style=\"text-align: right;\">\n",
       "      <th></th>\n",
       "      <th>Title</th>\n",
       "      <th>Date</th>\n",
       "      <th>Authors</th>\n",
       "      <th>Summary</th>\n",
       "      <th>Keywords</th>\n",
       "      <th>Text</th>\n",
       "      <th>Url</th>\n",
       "    </tr>\n",
       "  </thead>\n",
       "  <tbody>\n",
       "    <tr>\n",
       "      <th>0</th>\n",
       "      <td>Looking Beyond the Internet of Things</td>\n",
       "      <td>2016-01-02</td>\n",
       "      <td>[Quentin Hardy]</td>\n",
       "      <td>SAN FRANCISCO — If you have sent email on Goog...</td>\n",
       "      <td>[internet, big, google, looking, bosworth, thi...</td>\n",
       "      <td>SAN FRANCISCO — If you have sent email on Goog...</td>\n",
       "      <td>https://www.nytimes.com/2016/01/02/technology/...</td>\n",
       "    </tr>\n",
       "    <tr>\n",
       "      <th>1</th>\n",
       "      <td>Opinion | Whither Crimea?</td>\n",
       "      <td>2016-01-05</td>\n",
       "      <td>[]</td>\n",
       "      <td>To the Editor:Dimiter Kenarov asks us to accep...</td>\n",
       "      <td>[war, european, annexation, crimea, world, sen...</td>\n",
       "      <td>To the Editor:\\n\\nDimiter Kenarov asks us to a...</td>\n",
       "      <td>https://www.nytimes.com/2016/01/05/opinion/whi...</td>\n",
       "    </tr>\n",
       "    <tr>\n",
       "      <th>2</th>\n",
       "      <td>Protesters in Oregon Seek to End Policy That S...</td>\n",
       "      <td>2016-01-06</td>\n",
       "      <td>[Kirk Johnson, Jack Healy]</td>\n",
       "      <td>BURNS, Ore. — They used to call it Bundyville,...</td>\n",
       "      <td>[lands, policy, armed, shaped, end, public, se...</td>\n",
       "      <td>BURNS, Ore. — They used to call it Bundyville,...</td>\n",
       "      <td>https://www.nytimes.com/2016/01/06/us/proteste...</td>\n",
       "    </tr>\n",
       "    <tr>\n",
       "      <th>3</th>\n",
       "      <td>Quotation of the Day</td>\n",
       "      <td>2016-01-06</td>\n",
       "      <td>[]</td>\n",
       "      <td>“First graders.\\nEvery time I think about thos...</td>\n",
       "      <td>[day, vowed, kids, violence, obama, killed, ho...</td>\n",
       "      <td>“First graders. Every time I think about those...</td>\n",
       "      <td>https://www.nytimes.com/2016/01/06/todayspaper...</td>\n",
       "    </tr>\n",
       "    <tr>\n",
       "      <th>4</th>\n",
       "      <td>Democrats Pick Ex-Prosecutor to Seek Senate Se...</td>\n",
       "      <td>2016-01-06</td>\n",
       "      <td>[Alexander Burns]</td>\n",
       "      <td>Democrats on Long Island have picked Assemblym...</td>\n",
       "      <td>[left, democrats, exprosecutor, senate, seat, ...</td>\n",
       "      <td>Democrats on Long Island have picked Assemblym...</td>\n",
       "      <td>https://www.nytimes.com/2016/01/06/nyregion/de...</td>\n",
       "    </tr>\n",
       "    <tr>\n",
       "      <th>5</th>\n",
       "      <td>Mayor de Blasio to Raise Base Pay for City Wor...</td>\n",
       "      <td>2016-01-06</td>\n",
       "      <td>[Michael M. Grynbaum]</td>\n",
       "      <td>Mayor Bill de Blasio is set to announce on Wed...</td>\n",
       "      <td>[workers, officials, plan, city, employees, ma...</td>\n",
       "      <td>Mayor Bill de Blasio is set to announce on Wed...</td>\n",
       "      <td>https://www.nytimes.com/2016/01/06/nyregion/ma...</td>\n",
       "    </tr>\n",
       "    <tr>\n",
       "      <th>6</th>\n",
       "      <td>2 Brooklyn Schools in Gentrifying Area Will Ge...</td>\n",
       "      <td>2016-01-06</td>\n",
       "      <td>[Kate Taylor]</td>\n",
       "      <td>In recent months, many of the groups that woul...</td>\n",
       "      <td>[parents, schools, rezoning, elected, ps, 307,...</td>\n",
       "      <td>In recent months, many of the groups that woul...</td>\n",
       "      <td>https://www.nytimes.com/2016/01/06/nyregion/2-...</td>\n",
       "    </tr>\n",
       "    <tr>\n",
       "      <th>7</th>\n",
       "      <td>Global Brands, Taking Cue From Tinkerers, Expl...</td>\n",
       "      <td>2016-01-07</td>\n",
       "      <td>[Stacy Cowley]</td>\n",
       "      <td>But when 20,000 backers pledged $3.4 million t...</td>\n",
       "      <td>[global, taking, crowdfunding, brands, hu, pro...</td>\n",
       "      <td>When Wenqing Yan, a recent college graduate, s...</td>\n",
       "      <td>https://www.nytimes.com/2016/01/07/business/gl...</td>\n",
       "    </tr>\n",
       "    <tr>\n",
       "      <th>8</th>\n",
       "      <td>London International Mime Festival: Wordless P...</td>\n",
       "      <td>2016-01-09</td>\n",
       "      <td>[Matt Trueman]</td>\n",
       "      <td>LONDON — Mime: “Nowadays, you say the word, an...</td>\n",
       "      <td>[way, international, physicality, mime, word, ...</td>\n",
       "      <td>LONDON — Mime: “Nowadays, you say the word, an...</td>\n",
       "      <td>https://www.nytimes.com/2016/01/09/theater/lon...</td>\n",
       "    </tr>\n",
       "    <tr>\n",
       "      <th>9</th>\n",
       "      <td>Opinion | How to Help the Syrians Who Want to ...</td>\n",
       "      <td>2016-01-12</td>\n",
       "      <td>[Maureen White]</td>\n",
       "      <td>IN the aftermath of terrorist attacks in Paris...</td>\n",
       "      <td>[war, syrian, refugee, syrians, refugees, mill...</td>\n",
       "      <td>IN the aftermath of terrorist attacks in Paris...</td>\n",
       "      <td>https://www.nytimes.com/2016/01/12/opinion/how...</td>\n",
       "    </tr>\n",
       "  </tbody>\n",
       "</table>\n",
       "</div>"
      ],
      "text/plain": [
       "                                               Title       Date  \\\n",
       "0              Looking Beyond the Internet of Things 2016-01-02   \n",
       "1                          Opinion | Whither Crimea? 2016-01-05   \n",
       "2  Protesters in Oregon Seek to End Policy That S... 2016-01-06   \n",
       "3                               Quotation of the Day 2016-01-06   \n",
       "4  Democrats Pick Ex-Prosecutor to Seek Senate Se... 2016-01-06   \n",
       "5  Mayor de Blasio to Raise Base Pay for City Wor... 2016-01-06   \n",
       "6  2 Brooklyn Schools in Gentrifying Area Will Ge... 2016-01-06   \n",
       "7  Global Brands, Taking Cue From Tinkerers, Expl... 2016-01-07   \n",
       "8  London International Mime Festival: Wordless P... 2016-01-09   \n",
       "9  Opinion | How to Help the Syrians Who Want to ... 2016-01-12   \n",
       "\n",
       "                      Authors  \\\n",
       "0             [Quentin Hardy]   \n",
       "1                          []   \n",
       "2  [Kirk Johnson, Jack Healy]   \n",
       "3                          []   \n",
       "4           [Alexander Burns]   \n",
       "5       [Michael M. Grynbaum]   \n",
       "6               [Kate Taylor]   \n",
       "7              [Stacy Cowley]   \n",
       "8              [Matt Trueman]   \n",
       "9             [Maureen White]   \n",
       "\n",
       "                                             Summary  \\\n",
       "0  SAN FRANCISCO — If you have sent email on Goog...   \n",
       "1  To the Editor:Dimiter Kenarov asks us to accep...   \n",
       "2  BURNS, Ore. — They used to call it Bundyville,...   \n",
       "3  “First graders.\\nEvery time I think about thos...   \n",
       "4  Democrats on Long Island have picked Assemblym...   \n",
       "5  Mayor Bill de Blasio is set to announce on Wed...   \n",
       "6  In recent months, many of the groups that woul...   \n",
       "7  But when 20,000 backers pledged $3.4 million t...   \n",
       "8  LONDON — Mime: “Nowadays, you say the word, an...   \n",
       "9  IN the aftermath of terrorist attacks in Paris...   \n",
       "\n",
       "                                            Keywords  \\\n",
       "0  [internet, big, google, looking, bosworth, thi...   \n",
       "1  [war, european, annexation, crimea, world, sen...   \n",
       "2  [lands, policy, armed, shaped, end, public, se...   \n",
       "3  [day, vowed, kids, violence, obama, killed, ho...   \n",
       "4  [left, democrats, exprosecutor, senate, seat, ...   \n",
       "5  [workers, officials, plan, city, employees, ma...   \n",
       "6  [parents, schools, rezoning, elected, ps, 307,...   \n",
       "7  [global, taking, crowdfunding, brands, hu, pro...   \n",
       "8  [way, international, physicality, mime, word, ...   \n",
       "9  [war, syrian, refugee, syrians, refugees, mill...   \n",
       "\n",
       "                                                Text  \\\n",
       "0  SAN FRANCISCO — If you have sent email on Goog...   \n",
       "1  To the Editor:\\n\\nDimiter Kenarov asks us to a...   \n",
       "2  BURNS, Ore. — They used to call it Bundyville,...   \n",
       "3  “First graders. Every time I think about those...   \n",
       "4  Democrats on Long Island have picked Assemblym...   \n",
       "5  Mayor Bill de Blasio is set to announce on Wed...   \n",
       "6  In recent months, many of the groups that woul...   \n",
       "7  When Wenqing Yan, a recent college graduate, s...   \n",
       "8  LONDON — Mime: “Nowadays, you say the word, an...   \n",
       "9  IN the aftermath of terrorist attacks in Paris...   \n",
       "\n",
       "                                                 Url  \n",
       "0  https://www.nytimes.com/2016/01/02/technology/...  \n",
       "1  https://www.nytimes.com/2016/01/05/opinion/whi...  \n",
       "2  https://www.nytimes.com/2016/01/06/us/proteste...  \n",
       "3  https://www.nytimes.com/2016/01/06/todayspaper...  \n",
       "4  https://www.nytimes.com/2016/01/06/nyregion/de...  \n",
       "5  https://www.nytimes.com/2016/01/06/nyregion/ma...  \n",
       "6  https://www.nytimes.com/2016/01/06/nyregion/2-...  \n",
       "7  https://www.nytimes.com/2016/01/07/business/gl...  \n",
       "8  https://www.nytimes.com/2016/01/09/theater/lon...  \n",
       "9  https://www.nytimes.com/2016/01/12/opinion/how...  "
      ]
     },
     "execution_count": 24,
     "metadata": {},
     "output_type": "execute_result"
    }
   ],
   "source": [
    "df.head(12)"
   ]
  },
  {
   "cell_type": "code",
   "execution_count": null,
   "metadata": {},
   "outputs": [],
   "source": []
  },
  {
   "cell_type": "code",
   "execution_count": 21,
   "metadata": {},
   "outputs": [],
   "source": [
    "df.to_csv('Jan2016.csv')"
   ]
  }
 ],
 "metadata": {
  "kernelspec": {
   "display_name": "Python 3",
   "language": "python",
   "name": "python3"
  },
  "language_info": {
   "codemirror_mode": {
    "name": "ipython",
    "version": 3
   },
   "file_extension": ".py",
   "mimetype": "text/x-python",
   "name": "python",
   "nbconvert_exporter": "python",
   "pygments_lexer": "ipython3",
   "version": "3.7.1"
  },
  "varInspector": {
   "cols": {
    "lenName": 16,
    "lenType": 16,
    "lenVar": 40
   },
   "kernels_config": {
    "python": {
     "delete_cmd_postfix": "",
     "delete_cmd_prefix": "del ",
     "library": "var_list.py",
     "varRefreshCmd": "print(var_dic_list())"
    },
    "r": {
     "delete_cmd_postfix": ") ",
     "delete_cmd_prefix": "rm(",
     "library": "var_list.r",
     "varRefreshCmd": "cat(var_dic_list()) "
    }
   },
   "types_to_exclude": [
    "module",
    "function",
    "builtin_function_or_method",
    "instance",
    "_Feature"
   ],
   "window_display": false
  }
 },
 "nbformat": 4,
 "nbformat_minor": 2
}
