{
 "cells": [
  {
   "cell_type": "code",
   "execution_count": 1,
   "metadata": {},
   "outputs": [],
   "source": [
    "# Dependencies\n",
    "import requests\n",
    "import time\n",
    "api_key = 'usFIFr5gw10QvJ3rNChD1AedG0qJCGUB'\n",
    "url = \"https://api.nytimes.com/svc/search/v2/articlesearch.json?\"\n",
    "\n",
    "# Store a search term\n",
    "query = \"obama\"\n",
    "\n",
    "# Search for articles published between a begin and end date\n",
    "begin_date = \"20160101\"\n",
    "end_date = \"20160130\"\n",
    "\n",
    "query_url = f\"{url}api-key={api_key}&begin_date={begin_date}&end_date={end_date}\""
   ]
  },
  {
   "cell_type": "code",
   "execution_count": 2,
   "metadata": {
    "collapsed": true
   },
   "outputs": [
    {
     "name": "stdout",
     "output_type": "stream",
     "text": [
      "https://api.nytimes.com/svc/search/v2/articlesearch.json?api-key=usFIFr5gw10QvJ3rNChD1AedG0qJCGUB&begin_date=20160101&end_date=20160130\n",
      "A snippet from the article: “The West should never recognize the attempted annexation of Crimea,” writes a former U.S. ambassador to Ukraine.\n",
      "A snippet from the article: The argument over admitting Syrian refugees obscures the bigger issue: How do we support those who want to return to Syria?\n",
      "A snippet from the article: Adam Bosworth, a tech pioneer, sees the future in servers that manage and learn from data gathered by sensors implanted in practically everything.\n",
      "A snippet from the article: The four decades of storytelling through physical theater have had an impact on mainstream productions in Britain.\n",
      "A snippet from the article: An armed group that is occupying a wildlife reserve in Oregon has called for Washington to hand control of federal lands to ranchers and local governments.\n",
      "A snippet from the article: Quotation of the Day for Wednesday, January 6, 2016.\n",
      "A snippet from the article: Todd Kaminsky, a state assemblyman and a former federal corruption prosecutor, will run in a Long Island district represented by Dean G. Skelos until his conviction on corruption charges.\n",
      "A snippet from the article: Mayor Bill de Blasio is set to announce on Wednesday a $15-an-hour minimum wage for New York City’s public work force that city officials said would be among the highest of its kind in the country.\n",
      "A snippet from the article: The Department of Education proposed the rezoning to alleviate crowding at a mostly white school, Public School 8. But the debate over the move has raised thorny issues of race and class.\n",
      "A snippet from the article: As companies like General Electric and Hasbro experiment with seeking ideas and funding from the masses, Indiegogo has started offering them consulting services.\n"
     ]
    }
   ],
   "source": [
    "# Retrieve articles\n",
    "response = requests.get(query_url).json()\n",
    "articles_list = [article for article in response[\"response\"][\"docs\"]]\n",
    "print(query_url)\n",
    "for article in articles_list:\n",
    "    print(f'A snippet from the article: {article[\"snippet\"]}')"
   ]
  },
  {
   "cell_type": "code",
   "execution_count": 3,
   "metadata": {},
   "outputs": [],
   "source": [
    "from pprint import pprint\n",
    "#pprint(response[\"response\"][\"docs\"][0])"
   ]
  },
  {
   "cell_type": "code",
   "execution_count": 28,
   "metadata": {},
   "outputs": [],
   "source": [
    "# BONUS: How would we get 30 results? \n",
    "# HINT: Look up the page query param\n",
    "\n",
    "# Emply list for articles\n",
    "articles_list = []\n",
    "webs = []\n",
    "response = requests.get(query_url).json()\n",
    "# loop through pages 0-2\n",
    "for page in range(0, 1):\n",
    "    try:\n",
    "        query_url = f\"{url}api-key={api_key}&begin_date={begin_date}&end_date={end_date}\"\n",
    "        # create query with page number\n",
    "        query_url = f\"{query_url}&page={str(page)}\"\n",
    "        articles = requests.get(query_url).json()\n",
    "\n",
    "        # Add a one second interval between queries to stay within API query limits\n",
    "        time.sleep(1)\n",
    "        # loop through the response and append each article to the list\n",
    "        for d in articles[\"response\"][\"docs\"]:\n",
    "            articles_list.append(d)\n",
    "            webs.append(d[\"web_url\"])\n",
    "            \n",
    "    except: \n",
    "        print(str(page))\n",
    "        print(query_url)\n",
    "        print('end')\n",
    "        break\n",
    "        "
   ]
  },
  {
   "cell_type": "code",
   "execution_count": 29,
   "metadata": {},
   "outputs": [
    {
     "name": "stdout",
     "output_type": "stream",
     "text": [
      "A snippet from the article: https://www.nytimes.com/2016/01/04/us/politics/state-focus-and-infusion-of-funding-buoy-gun-control-advocates.html\n",
      "A snippet from the article: https://www.nytimes.com/2016/01/17/business/mutfund/signs-of-a-retail-rebound-as-consumers-take-on-more-debt.html\n",
      "A snippet from the article: https://www.nytimes.com/2016/01/17/nyregion/after-losing-a-daughter-mustering-strength-for-3-who-remain.html\n",
      "A snippet from the article: https://www.nytimes.com/2016/01/02/nyregion/in-america-a-man-discovers-his-jewish-heritage.html\n",
      "A snippet from the article: https://www.nytimes.com/2016/01/10/travel/faq-52-places-to-go-in-2016.html\n",
      "A snippet from the article: https://www.nytimes.com/2016/01/10/travel/places-to-visit-transportation.html\n",
      "A snippet from the article: https://www.nytimes.com/2016/01/03/travel/bang-sydney-restaurant-review.html\n",
      "A snippet from the article: https://www.nytimes.com/2016/01/03/us/kratom-an-addicts-alternative-is-found-to-be-addictive-itself.html\n",
      "A snippet from the article: https://www.nytimes.com/2016/01/03/jobs/a-job-that-nourishes-the-soul-if-not-the-wallet.html\n",
      "A snippet from the article: https://www.nytimes.com/2016/01/12/world/europe/top-suspect-in-paris-attacks-had-traveled-to-britain-officials-say.html\n"
     ]
    }
   ],
   "source": [
    "for article in articles_list:\n",
    "    print(f'A snippet from the article: {article[\"web_url\"]}')"
   ]
  },
  {
   "cell_type": "code",
   "execution_count": 24,
   "metadata": {},
   "outputs": [
    {
     "data": {
      "text/plain": [
       "10"
      ]
     },
     "execution_count": 24,
     "metadata": {},
     "output_type": "execute_result"
    }
   ],
   "source": [
    "len(articles_list)"
   ]
  },
  {
   "cell_type": "code",
   "execution_count": 37,
   "metadata": {},
   "outputs": [
    {
     "name": "stdout",
     "output_type": "stream",
     "text": [
      "['https://www.nytimes.com/2016/01/04/us/politics/state-focus-and-infusion-of-funding-buoy-gun-control-advocates.html', 'https://www.nytimes.com/2016/01/17/business/mutfund/signs-of-a-retail-rebound-as-consumers-take-on-more-debt.html', 'https://www.nytimes.com/2016/01/17/nyregion/after-losing-a-daughter-mustering-strength-for-3-who-remain.html', 'https://www.nytimes.com/2016/01/02/nyregion/in-america-a-man-discovers-his-jewish-heritage.html', 'https://www.nytimes.com/2016/01/10/travel/faq-52-places-to-go-in-2016.html', 'https://www.nytimes.com/2016/01/10/travel/places-to-visit-transportation.html', 'https://www.nytimes.com/2016/01/03/travel/bang-sydney-restaurant-review.html', 'https://www.nytimes.com/2016/01/03/us/kratom-an-addicts-alternative-is-found-to-be-addictive-itself.html', 'https://www.nytimes.com/2016/01/03/jobs/a-job-that-nourishes-the-soul-if-not-the-wallet.html', 'https://www.nytimes.com/2016/01/12/world/europe/top-suspect-in-paris-attacks-had-traveled-to-britain-officials-say.html']\n"
     ]
    }
   ],
   "source": [
    "print(webs)"
   ]
  },
  {
   "cell_type": "code",
   "execution_count": 50,
   "metadata": {},
   "outputs": [
    {
     "name": "stderr",
     "output_type": "stream",
     "text": [
      "[nltk_data] Downloading package punkt to\n",
      "[nltk_data]     C:\\Users\\ejohn\\AppData\\Roaming\\nltk_data...\n",
      "[nltk_data]   Package punkt is already up-to-date!\n"
     ]
    }
   ],
   "source": [
    "from newspaper import Article\n",
    "import nltk\n",
    "nltk.download('punkt')\n",
    "import pandas as pd"
   ]
  },
  {
   "cell_type": "code",
   "execution_count": 44,
   "metadata": {},
   "outputs": [],
   "source": [
    "article = Article(webs[0])"
   ]
  },
  {
   "cell_type": "code",
   "execution_count": 47,
   "metadata": {},
   "outputs": [
    {
     "name": "stdout",
     "output_type": "stream",
     "text": [
      "<newspaper.article.Article object at 0x0000029A16840208>\n"
     ]
    }
   ],
   "source": [
    "print(article)\n",
    "article.download()\n",
    "article.parse()\n",
    "article.nlp()\n",
    "article_info = ([article.publish_date, article.authors,\n",
    "          article.summary, article.keywords, article.text,\n",
    "         article.url])"
   ]
  },
  {
   "cell_type": "code",
   "execution_count": 48,
   "metadata": {},
   "outputs": [
    {
     "name": "stdout",
     "output_type": "stream",
     "text": [
      "[datetime.datetime(2016, 1, 4, 0, 0), ['Eric Lichtblau'], 'In its latest push, the group is funding an ad campaign for players from the National Basketball Association to speak out against gun violence.\\nIt has chapters in all 50 states, with registered lobbyists in 31 of them, adopting a structure used to great effectiveness by the N.R.A.\\nMr. Bloomberg has pledged to spend at least $50 million of his own money in the group’s push for tougher gun restrictions — a level of spending that Jennifer Baker, an N.R.A.\\nofficial, called “obscene.”In some races, gun control advocates are outspending the deep-pocketed N.R.A.\\nThey believe their cause was buoyed last month when the Supreme Court let stand an ordinance in a Chicago suburb that bans semiautomatic assault weapons.', ['buoy', 'supporters', 'push', 'races', 'restrictions', 'advocates', 'nra', 'bloomberg', 'spending', 'million', 'state', 'control', 'funding', 'focus', 'infusion', 'gun'], '“The money was almost exclusively on the pro-gun side of the fence before, and we were always accused of spending our way to victory,” said Richard Feldman, a former N.R.A. executive who leads the Independent Firearms Owners Association. “Now the other side has these resources from Michael Bloomberg to get involved in these state and local races, something they didn’t have before.”\\n\\nThe organization Everytown for Gun Safety — which received $36 million in contributions last year, with the biggest chunk coming from Mr. Bloomberg — has eclipsed a number of older gun control groups in publicity and influence. In its latest push, the group is funding an ad campaign for players from the National Basketball Association to speak out against gun violence.\\n\\nThe group, created in 2014 after the slaughter in 2012 of 26 children and adults at an elementary school in Newtown, Conn., says its supporters have now grown to three million nationwide, including survivors of shootings, mayors, police officers, celebrities, and rank-and-file supporters. It has chapters in all 50 states, with registered lobbyists in 31 of them, adopting a structure used to great effectiveness by the N.R.A. itself. Mr. Bloomberg has pledged to spend at least $50 million of his own money in the group’s push for tougher gun restrictions — a level of spending that Jennifer Baker, an N.R.A. official, called “obscene.”\\n\\nIn some races, gun control advocates are outspending the deep-pocketed N.R.A. And after the mass shooting in San Bernardino, Calif., and earlier rampages at a Planned Parenthood facility in Colorado, a community college in Oregon and a church in Charleston, S.C., gun control advocates said they planned to expand their push for stiffer local restrictions still further. They believe their cause was buoyed last month when the Supreme Court let stand an ordinance in a Chicago suburb that bans semiautomatic assault weapons.', 'https://www.nytimes.com/2016/01/04/us/politics/state-focus-and-infusion-of-funding-buoy-gun-control-advocates.html']\n"
     ]
    }
   ],
   "source": [
    "print(article_info)"
   ]
  },
  {
   "cell_type": "code",
   "execution_count": 52,
   "metadata": {},
   "outputs": [
    {
     "name": "stdout",
     "output_type": "stream",
     "text": [
      "https://www.nytimes.com/2016/01/04/us/politics/state-focus-and-infusion-of-funding-buoy-gun-control-advocates.html\n",
      "<newspaper.article.Article object at 0x0000029A188F6E48>\n",
      "https://www.nytimes.com/2016/01/17/business/mutfund/signs-of-a-retail-rebound-as-consumers-take-on-more-debt.html\n",
      "<newspaper.article.Article object at 0x0000029A1889DF28>\n",
      "https://www.nytimes.com/2016/01/17/nyregion/after-losing-a-daughter-mustering-strength-for-3-who-remain.html\n",
      "<newspaper.article.Article object at 0x0000029A188EBE48>\n",
      "https://www.nytimes.com/2016/01/02/nyregion/in-america-a-man-discovers-his-jewish-heritage.html\n",
      "<newspaper.article.Article object at 0x0000029A167ED6A0>\n",
      "https://www.nytimes.com/2016/01/10/travel/faq-52-places-to-go-in-2016.html\n",
      "<newspaper.article.Article object at 0x0000029A16939BA8>\n",
      "https://www.nytimes.com/2016/01/10/travel/places-to-visit-transportation.html\n",
      "<newspaper.article.Article object at 0x0000029A188F6B70>\n",
      "https://www.nytimes.com/2016/01/03/travel/bang-sydney-restaurant-review.html\n",
      "<newspaper.article.Article object at 0x0000029A18900550>\n",
      "https://www.nytimes.com/2016/01/03/us/kratom-an-addicts-alternative-is-found-to-be-addictive-itself.html\n",
      "<newspaper.article.Article object at 0x0000029A13126080>\n",
      "https://www.nytimes.com/2016/01/03/jobs/a-job-that-nourishes-the-soul-if-not-the-wallet.html\n",
      "<newspaper.article.Article object at 0x0000029A188F6630>\n",
      "https://www.nytimes.com/2016/01/12/world/europe/top-suspect-in-paris-attacks-had-traveled-to-britain-officials-say.html\n",
      "<newspaper.article.Article object at 0x0000029A132C0390>\n"
     ]
    }
   ],
   "source": [
    "text = []\n",
    "for address in webs: \n",
    "    print(address)\n",
    "    try:\n",
    "        article = Article(address)\n",
    "        print(article)\n",
    "        article.download()\n",
    "        article.parse()\n",
    "        article.nlp()\n",
    "        article_info = ([article.publish_date, article.authors,\n",
    "                  article.summary, article.keywords, article.text,\n",
    "                 article.url])\n",
    "    except:\n",
    "        pass\n",
    "\n",
    "    text.append(article_info)\n",
    "\n",
    "newspaper_dataset = pd.DataFrame(text, columns=['Date','Authors', 'Summary', 'Keywords', 'Text', \"Url\"])\n",
    "# newspaper_dataset[\"Text_Decode\"] = newspaper_dataset[\"Text\"].apply(lambda x: x.encode('utf-8'))\n",
    "# newspaper_dataset[\"Text_Clean\"] = newspaper_dataset[\"Text_Decode\"].apply(lambda x: x.replace(\"\\n\", \" \"))\n",
    "# newspaper_dataset = newspaper_dataset.drop('Text_Decode', 1)"
   ]
  },
  {
   "cell_type": "code",
   "execution_count": 53,
   "metadata": {},
   "outputs": [
    {
     "data": {
      "text/html": [
       "<div>\n",
       "<style scoped>\n",
       "    .dataframe tbody tr th:only-of-type {\n",
       "        vertical-align: middle;\n",
       "    }\n",
       "\n",
       "    .dataframe tbody tr th {\n",
       "        vertical-align: top;\n",
       "    }\n",
       "\n",
       "    .dataframe thead th {\n",
       "        text-align: right;\n",
       "    }\n",
       "</style>\n",
       "<table border=\"1\" class=\"dataframe\">\n",
       "  <thead>\n",
       "    <tr style=\"text-align: right;\">\n",
       "      <th></th>\n",
       "      <th>Date</th>\n",
       "      <th>Authors</th>\n",
       "      <th>Summary</th>\n",
       "      <th>Keywords</th>\n",
       "      <th>Text</th>\n",
       "      <th>Url</th>\n",
       "    </tr>\n",
       "  </thead>\n",
       "  <tbody>\n",
       "    <tr>\n",
       "      <th>0</th>\n",
       "      <td>2016-01-04</td>\n",
       "      <td>[Eric Lichtblau]</td>\n",
       "      <td>In its latest push, the group is funding an ad...</td>\n",
       "      <td>[buoy, supporters, push, races, restrictions, ...</td>\n",
       "      <td>“The money was almost exclusively on the pro-g...</td>\n",
       "      <td>https://www.nytimes.com/2016/01/04/us/politics...</td>\n",
       "    </tr>\n",
       "    <tr>\n",
       "      <th>1</th>\n",
       "      <td>2016-01-17</td>\n",
       "      <td>[Norm Alster]</td>\n",
       "      <td>Recent data also show that defaults on various...</td>\n",
       "      <td>[consumers, room, rebound, retail, housing, he...</td>\n",
       "      <td>Recent data also show that defaults on various...</td>\n",
       "      <td>https://www.nytimes.com/2016/01/17/business/mu...</td>\n",
       "    </tr>\n",
       "    <tr>\n",
       "      <th>2</th>\n",
       "      <td>2016-01-17</td>\n",
       "      <td>[Vivian Yee]</td>\n",
       "      <td>In August 2014, Yvette Teixeira’s eldest daugh...</td>\n",
       "      <td>[daughter, family, mustering, apart, remain, t...</td>\n",
       "      <td>She called them her four M&amp;M’s: Meghan and Mis...</td>\n",
       "      <td>https://www.nytimes.com/2016/01/17/nyregion/af...</td>\n",
       "    </tr>\n",
       "    <tr>\n",
       "      <th>3</th>\n",
       "      <td>2016-01-02</td>\n",
       "      <td>[John Otis]</td>\n",
       "      <td>Those frequent trips to Philadelphia made it d...</td>\n",
       "      <td>[discovers, america, mr, benefits, community, ...</td>\n",
       "      <td>Those frequent trips to Philadelphia made it d...</td>\n",
       "      <td>https://www.nytimes.com/2016/01/02/nyregion/in...</td>\n",
       "    </tr>\n",
       "    <tr>\n",
       "      <th>4</th>\n",
       "      <td>2016-01-10</td>\n",
       "      <td>[The New York Times]</td>\n",
       "      <td>Each January, the editors of the Travel sectio...</td>\n",
       "      <td>[picked, travel, writers, weve, favorite, tran...</td>\n",
       "      <td>Each January, the editors of the Travel sectio...</td>\n",
       "      <td>https://www.nytimes.com/2016/01/10/travel/faq-...</td>\n",
       "    </tr>\n",
       "  </tbody>\n",
       "</table>\n",
       "</div>"
      ],
      "text/plain": [
       "        Date               Authors  \\\n",
       "0 2016-01-04      [Eric Lichtblau]   \n",
       "1 2016-01-17         [Norm Alster]   \n",
       "2 2016-01-17          [Vivian Yee]   \n",
       "3 2016-01-02           [John Otis]   \n",
       "4 2016-01-10  [The New York Times]   \n",
       "\n",
       "                                             Summary  \\\n",
       "0  In its latest push, the group is funding an ad...   \n",
       "1  Recent data also show that defaults on various...   \n",
       "2  In August 2014, Yvette Teixeira’s eldest daugh...   \n",
       "3  Those frequent trips to Philadelphia made it d...   \n",
       "4  Each January, the editors of the Travel sectio...   \n",
       "\n",
       "                                            Keywords  \\\n",
       "0  [buoy, supporters, push, races, restrictions, ...   \n",
       "1  [consumers, room, rebound, retail, housing, he...   \n",
       "2  [daughter, family, mustering, apart, remain, t...   \n",
       "3  [discovers, america, mr, benefits, community, ...   \n",
       "4  [picked, travel, writers, weve, favorite, tran...   \n",
       "\n",
       "                                                Text  \\\n",
       "0  “The money was almost exclusively on the pro-g...   \n",
       "1  Recent data also show that defaults on various...   \n",
       "2  She called them her four M&M’s: Meghan and Mis...   \n",
       "3  Those frequent trips to Philadelphia made it d...   \n",
       "4  Each January, the editors of the Travel sectio...   \n",
       "\n",
       "                                                 Url  \n",
       "0  https://www.nytimes.com/2016/01/04/us/politics...  \n",
       "1  https://www.nytimes.com/2016/01/17/business/mu...  \n",
       "2  https://www.nytimes.com/2016/01/17/nyregion/af...  \n",
       "3  https://www.nytimes.com/2016/01/02/nyregion/in...  \n",
       "4  https://www.nytimes.com/2016/01/10/travel/faq-...  "
      ]
     },
     "execution_count": 53,
     "metadata": {},
     "output_type": "execute_result"
    }
   ],
   "source": [
    "newspaper_dataset.head()"
   ]
  },
  {
   "cell_type": "code",
   "execution_count": 54,
   "metadata": {},
   "outputs": [
    {
     "name": "stdout",
     "output_type": "stream",
     "text": [
      "“The money was almost exclusively on the pro-gun side of the fence before, and we were always accused of spending our way to victory,” said Richard Feldman, a former N.R.A. executive who leads the Independent Firearms Owners Association. “Now the other side has these resources from Michael Bloomberg to get involved in these state and local races, something they didn’t have before.”\n",
      "\n",
      "The organization Everytown for Gun Safety — which received $36 million in contributions last year, with the biggest chunk coming from Mr. Bloomberg — has eclipsed a number of older gun control groups in publicity and influence. In its latest push, the group is funding an ad campaign for players from the National Basketball Association to speak out against gun violence.\n",
      "\n",
      "The group, created in 2014 after the slaughter in 2012 of 26 children and adults at an elementary school in Newtown, Conn., says its supporters have now grown to three million nationwide, including survivors of shootings, mayors, police officers, celebrities, and rank-and-file supporters. It has chapters in all 50 states, with registered lobbyists in 31 of them, adopting a structure used to great effectiveness by the N.R.A. itself. Mr. Bloomberg has pledged to spend at least $50 million of his own money in the group’s push for tougher gun restrictions — a level of spending that Jennifer Baker, an N.R.A. official, called “obscene.”\n",
      "\n",
      "In some races, gun control advocates are outspending the deep-pocketed N.R.A. And after the mass shooting in San Bernardino, Calif., and earlier rampages at a Planned Parenthood facility in Colorado, a community college in Oregon and a church in Charleston, S.C., gun control advocates said they planned to expand their push for stiffer local restrictions still further. They believe their cause was buoyed last month when the Supreme Court let stand an ordinance in a Chicago suburb that bans semiautomatic assault weapons.\n"
     ]
    }
   ],
   "source": [
    "print(newspaper_dataset['Text'][0])"
   ]
  },
  {
   "cell_type": "code",
   "execution_count": null,
   "metadata": {},
   "outputs": [],
   "source": []
  }
 ],
 "metadata": {
  "kernelspec": {
   "display_name": "Python 3",
   "language": "python",
   "name": "python3"
  },
  "language_info": {
   "codemirror_mode": {
    "name": "ipython",
    "version": 3
   },
   "file_extension": ".py",
   "mimetype": "text/x-python",
   "name": "python",
   "nbconvert_exporter": "python",
   "pygments_lexer": "ipython3",
   "version": "3.7.1"
  },
  "varInspector": {
   "cols": {
    "lenName": 16,
    "lenType": 16,
    "lenVar": 40
   },
   "kernels_config": {
    "python": {
     "delete_cmd_postfix": "",
     "delete_cmd_prefix": "del ",
     "library": "var_list.py",
     "varRefreshCmd": "print(var_dic_list())"
    },
    "r": {
     "delete_cmd_postfix": ") ",
     "delete_cmd_prefix": "rm(",
     "library": "var_list.r",
     "varRefreshCmd": "cat(var_dic_list()) "
    }
   },
   "types_to_exclude": [
    "module",
    "function",
    "builtin_function_or_method",
    "instance",
    "_Feature"
   ],
   "window_display": false
  }
 },
 "nbformat": 4,
 "nbformat_minor": 2
}
